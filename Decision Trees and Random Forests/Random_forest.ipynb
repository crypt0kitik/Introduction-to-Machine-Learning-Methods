{
 "cells": [
  {
   "cell_type": "markdown",
   "id": "31703d5b-5756-4456-9bb5-bb9dc6242244",
   "metadata": {},
   "source": [
    "https://www.kaggle.com/datasets/mdismielhossenabir/psychosocial-dimensions-of-student-life"
   ]
  },
  {
   "cell_type": "markdown",
   "id": "e94661a3-b585-4c44-bd06-eb88f0a5828b",
   "metadata": {},
   "source": [
    "## 1. Clean and modifying data"
   ]
  },
  {
   "cell_type": "code",
   "execution_count": 90,
   "id": "c8d29c46-3fe2-4df5-a4af-e739872e107c",
   "metadata": {},
   "outputs": [],
   "source": [
    "# the usual imports\n",
    "import pandas as pd\n",
    "import numpy as np\n",
    "import matplotlib.pyplot as plt\n",
    "import seaborn as sns\n",
    "from sklearn.model_selection import train_test_split\n",
    "from sklearn.pipeline import make_pipeline\n",
    "from sklearn.ensemble import RandomForestRegressor\n",
    "from sklearn.preprocessing import MinMaxScaler, StandardScaler, RobustScaler, Normalizer\n",
    "from sklearn import metrics\n",
    "from sklearn.ensemble import RandomForestClassifier\n",
    "from sklearn.preprocessing import LabelEncoder\n",
    "from sklearn.metrics import classification_report, accuracy_score\n",
    "from sklearn.metrics import confusion_matrix\n",
    "from sklearn.metrics import roc_auc_score"
   ]
  },
  {
   "cell_type": "code",
   "execution_count": 91,
   "id": "40600a39-a082-4716-872a-53273fa667cf",
   "metadata": {},
   "outputs": [],
   "source": [
    "# load the data\n",
    "df = pd.read_csv(\"med_student.csv\")"
   ]
  },
  {
   "cell_type": "code",
   "execution_count": 92,
   "id": "02c3e238-45ea-4a8a-879b-1c30ae7f8f6d",
   "metadata": {},
   "outputs": [
    {
     "data": {
      "text/html": [
       "<div>\n",
       "<style scoped>\n",
       "    .dataframe tbody tr th:only-of-type {\n",
       "        vertical-align: middle;\n",
       "    }\n",
       "\n",
       "    .dataframe tbody tr th {\n",
       "        vertical-align: top;\n",
       "    }\n",
       "\n",
       "    .dataframe thead th {\n",
       "        text-align: right;\n",
       "    }\n",
       "</style>\n",
       "<table border=\"1\" class=\"dataframe\">\n",
       "  <thead>\n",
       "    <tr style=\"text-align: right;\">\n",
       "      <th></th>\n",
       "      <th>Age</th>\n",
       "      <th>Gender</th>\n",
       "      <th>AcademicPerformance</th>\n",
       "      <th>TakingNoteInClass</th>\n",
       "      <th>DepressionStatus</th>\n",
       "      <th>FaceChallangesToCompleteAcademicTask</th>\n",
       "      <th>LikePresentation</th>\n",
       "      <th>SleepPerDayHours</th>\n",
       "      <th>NumberOfFriend</th>\n",
       "      <th>LikeNewThings</th>\n",
       "    </tr>\n",
       "  </thead>\n",
       "  <tbody>\n",
       "    <tr>\n",
       "      <th>0</th>\n",
       "      <td>23</td>\n",
       "      <td>Male</td>\n",
       "      <td>Average</td>\n",
       "      <td>No</td>\n",
       "      <td>Sometimes</td>\n",
       "      <td>Yes</td>\n",
       "      <td>Yes</td>\n",
       "      <td>12</td>\n",
       "      <td>NaN</td>\n",
       "      <td>Yes</td>\n",
       "    </tr>\n",
       "    <tr>\n",
       "      <th>1</th>\n",
       "      <td>23</td>\n",
       "      <td>Male</td>\n",
       "      <td>Excellent</td>\n",
       "      <td>Sometimes</td>\n",
       "      <td>Yes</td>\n",
       "      <td>No</td>\n",
       "      <td>Yes</td>\n",
       "      <td>8</td>\n",
       "      <td>80.0</td>\n",
       "      <td>Yes</td>\n",
       "    </tr>\n",
       "    <tr>\n",
       "      <th>2</th>\n",
       "      <td>24</td>\n",
       "      <td>Male</td>\n",
       "      <td>Average</td>\n",
       "      <td>No</td>\n",
       "      <td>Sometimes</td>\n",
       "      <td>Sometimes</td>\n",
       "      <td>No</td>\n",
       "      <td>8</td>\n",
       "      <td>10.0</td>\n",
       "      <td>Yes</td>\n",
       "    </tr>\n",
       "    <tr>\n",
       "      <th>3</th>\n",
       "      <td>20</td>\n",
       "      <td>Female</td>\n",
       "      <td>Good</td>\n",
       "      <td>Yes</td>\n",
       "      <td>Sometimes</td>\n",
       "      <td>Yes</td>\n",
       "      <td>No</td>\n",
       "      <td>5</td>\n",
       "      <td>15.0</td>\n",
       "      <td>Yes</td>\n",
       "    </tr>\n",
       "    <tr>\n",
       "      <th>4</th>\n",
       "      <td>24</td>\n",
       "      <td>Female</td>\n",
       "      <td>Average</td>\n",
       "      <td>Yes</td>\n",
       "      <td>Yes</td>\n",
       "      <td>Yes</td>\n",
       "      <td>Yes</td>\n",
       "      <td>5</td>\n",
       "      <td>2.0</td>\n",
       "      <td>Yes</td>\n",
       "    </tr>\n",
       "  </tbody>\n",
       "</table>\n",
       "</div>"
      ],
      "text/plain": [
       "   Age   Gender AcademicPerformance TakingNoteInClass DepressionStatus  \\\n",
       "0    23    Male             Average                No        Sometimes   \n",
       "1    23    Male           Excellent         Sometimes              Yes   \n",
       "2    24    Male             Average                No        Sometimes   \n",
       "3    20  Female                Good               Yes        Sometimes   \n",
       "4    24  Female             Average               Yes              Yes   \n",
       "\n",
       "  FaceChallangesToCompleteAcademicTask LikePresentation  SleepPerDayHours  \\\n",
       "0                                  Yes              Yes                12   \n",
       "1                                   No              Yes                 8   \n",
       "2                            Sometimes               No                 8   \n",
       "3                                  Yes               No                 5   \n",
       "4                                  Yes              Yes                 5   \n",
       "\n",
       "   NumberOfFriend LikeNewThings  \n",
       "0             NaN           Yes  \n",
       "1            80.0           Yes  \n",
       "2            10.0           Yes  \n",
       "3            15.0           Yes  \n",
       "4             2.0           Yes  "
      ]
     },
     "execution_count": 92,
     "metadata": {},
     "output_type": "execute_result"
    }
   ],
   "source": [
    "# let's quickly see what we have\n",
    "df.head()"
   ]
  },
  {
   "cell_type": "code",
   "execution_count": 93,
   "id": "92686ebf-351e-4e85-8f29-a5cc1b8901d2",
   "metadata": {},
   "outputs": [
    {
     "data": {
      "text/html": [
       "<div>\n",
       "<style scoped>\n",
       "    .dataframe tbody tr th:only-of-type {\n",
       "        vertical-align: middle;\n",
       "    }\n",
       "\n",
       "    .dataframe tbody tr th {\n",
       "        vertical-align: top;\n",
       "    }\n",
       "\n",
       "    .dataframe thead th {\n",
       "        text-align: right;\n",
       "    }\n",
       "</style>\n",
       "<table border=\"1\" class=\"dataframe\">\n",
       "  <thead>\n",
       "    <tr style=\"text-align: right;\">\n",
       "      <th></th>\n",
       "      <th>Age</th>\n",
       "      <th>SleepPerDayHours</th>\n",
       "      <th>NumberOfFriend</th>\n",
       "    </tr>\n",
       "  </thead>\n",
       "  <tbody>\n",
       "    <tr>\n",
       "      <th>count</th>\n",
       "      <td>99.000000</td>\n",
       "      <td>99.000000</td>\n",
       "      <td>95.000000</td>\n",
       "    </tr>\n",
       "    <tr>\n",
       "      <th>mean</th>\n",
       "      <td>22.515152</td>\n",
       "      <td>6.717172</td>\n",
       "      <td>16.189474</td>\n",
       "    </tr>\n",
       "    <tr>\n",
       "      <th>std</th>\n",
       "      <td>1.560767</td>\n",
       "      <td>1.738169</td>\n",
       "      <td>25.397811</td>\n",
       "    </tr>\n",
       "    <tr>\n",
       "      <th>min</th>\n",
       "      <td>20.000000</td>\n",
       "      <td>4.000000</td>\n",
       "      <td>0.000000</td>\n",
       "    </tr>\n",
       "    <tr>\n",
       "      <th>25%</th>\n",
       "      <td>21.000000</td>\n",
       "      <td>5.000000</td>\n",
       "      <td>3.000000</td>\n",
       "    </tr>\n",
       "    <tr>\n",
       "      <th>50%</th>\n",
       "      <td>23.000000</td>\n",
       "      <td>7.000000</td>\n",
       "      <td>6.000000</td>\n",
       "    </tr>\n",
       "    <tr>\n",
       "      <th>75%</th>\n",
       "      <td>24.000000</td>\n",
       "      <td>8.000000</td>\n",
       "      <td>15.000000</td>\n",
       "    </tr>\n",
       "    <tr>\n",
       "      <th>max</th>\n",
       "      <td>25.000000</td>\n",
       "      <td>12.000000</td>\n",
       "      <td>100.000000</td>\n",
       "    </tr>\n",
       "  </tbody>\n",
       "</table>\n",
       "</div>"
      ],
      "text/plain": [
       "            Age   SleepPerDayHours  NumberOfFriend\n",
       "count  99.000000         99.000000       95.000000\n",
       "mean   22.515152          6.717172       16.189474\n",
       "std     1.560767          1.738169       25.397811\n",
       "min    20.000000          4.000000        0.000000\n",
       "25%    21.000000          5.000000        3.000000\n",
       "50%    23.000000          7.000000        6.000000\n",
       "75%    24.000000          8.000000       15.000000\n",
       "max    25.000000         12.000000      100.000000"
      ]
     },
     "execution_count": 93,
     "metadata": {},
     "output_type": "execute_result"
    }
   ],
   "source": [
    "# data is quite small which is good to cee clear classification\n",
    "df.describe()"
   ]
  },
  {
   "cell_type": "code",
   "execution_count": 94,
   "id": "20805adf-8d1d-4b23-a772-82a7699492f0",
   "metadata": {},
   "outputs": [
    {
     "data": {
      "text/plain": [
       "67"
      ]
     },
     "execution_count": 94,
     "metadata": {},
     "output_type": "execute_result"
    }
   ],
   "source": [
    "# oh wow this is so bad :)\n",
    "# we have too many duplicates (almost the whole dataset)\n",
    "df.duplicated().sum()"
   ]
  },
  {
   "cell_type": "code",
   "execution_count": 95,
   "id": "d7c28b11-d890-4c35-a1cd-3584ec2fc30d",
   "metadata": {},
   "outputs": [
    {
     "data": {
      "text/plain": [
       "Age                                     0\n",
       "Gender                                  0\n",
       "AcademicPerformance                     0\n",
       "TakingNoteInClass                       0\n",
       "DepressionStatus                        0\n",
       "FaceChallangesToCompleteAcademicTask    0\n",
       "LikePresentation                        0\n",
       "SleepPerDayHours                        0\n",
       "NumberOfFriend                          4\n",
       "LikeNewThings                           0\n",
       "dtype: int64"
      ]
     },
     "execution_count": 95,
     "metadata": {},
     "output_type": "execute_result"
    }
   ],
   "source": [
    "# and we have 4 Nan values\n",
    "df.isna().sum()"
   ]
  },
  {
   "cell_type": "code",
   "execution_count": 96,
   "id": "ae445645-2229-45a7-bdd3-a9d0913a9691",
   "metadata": {},
   "outputs": [
    {
     "name": "stdout",
     "output_type": "stream",
     "text": [
      "    Age   Gender AcademicPerformance TakingNoteInClass DepressionStatus  \\\n",
      "32    23    Male             Average                No        Sometimes   \n",
      "33    23    Male           Excellent         Sometimes              Yes   \n",
      "34    24    Male             Average                No        Sometimes   \n",
      "35    20  Female                Good               Yes        Sometimes   \n",
      "36    24  Female             Average               Yes              Yes   \n",
      "..   ...     ...                 ...               ...              ...   \n",
      "94    21    Male                Good               Yes        Sometimes   \n",
      "95    21  Female                Good               Yes              Yes   \n",
      "96    25    Male                Good               Yes        Sometimes   \n",
      "97    21    Male                Good               Yes               No   \n",
      "98    22  Female             Average               Yes               No   \n",
      "\n",
      "   FaceChallangesToCompleteAcademicTask LikePresentation  SleepPerDayHours  \\\n",
      "32                                  Yes              Yes                12   \n",
      "33                                   No              Yes                 8   \n",
      "34                            Sometimes               No                 8   \n",
      "35                                  Yes               No                 5   \n",
      "36                                  Yes              Yes                 5   \n",
      "..                                  ...              ...               ...   \n",
      "94                                  Yes              Yes                 6   \n",
      "95                                   No              Yes                 6   \n",
      "96                                   No              Yes                 4   \n",
      "97                            Sometimes               No                10   \n",
      "98                                   No              Yes                 7   \n",
      "\n",
      "    NumberOfFriend LikeNewThings  \n",
      "32             NaN           Yes  \n",
      "33            80.0           Yes  \n",
      "34            10.0           Yes  \n",
      "35            15.0           Yes  \n",
      "36             2.0           Yes  \n",
      "..             ...           ...  \n",
      "94             4.0           Yes  \n",
      "95             6.0           Yes  \n",
      "96             9.0            No  \n",
      "97            23.0           Yes  \n",
      "98             3.0           Yes  \n",
      "\n",
      "[67 rows x 10 columns]\n",
      "Number of duplicate rows: 67\n"
     ]
    }
   ],
   "source": [
    "# Check for duplicate rows\n",
    "duplicates = df.duplicated()\n",
    "\n",
    "# Print duplicate rows\n",
    "print(df[duplicates])\n",
    "\n",
    "# Alternatively, you can count the number of duplicate rows\n",
    "num_duplicates = df.duplicated().sum()\n",
    "print(\"Number of duplicate rows:\", num_duplicates)\n",
    "\n",
    "# I think we have duplicates becuase data is quite genereal\n",
    "# and might be repetitive for many cases\n",
    "# I will delete Nan values but let's keep duplicates"
   ]
  },
  {
   "cell_type": "code",
   "execution_count": 97,
   "id": "90a401b2-f107-4925-b427-c54961b7cb25",
   "metadata": {},
   "outputs": [],
   "source": [
    "# drop Nan values\n",
    "df = df.dropna()"
   ]
  },
  {
   "cell_type": "markdown",
   "id": "15002968-4f2f-42e4-ab17-c9098fcff06a",
   "metadata": {},
   "source": [
    "## Now there will be a bunch of LabelEncoder functions to make data numeric and that can be skipped"
   ]
  },
  {
   "cell_type": "code",
   "execution_count": 98,
   "id": "fb5e76d2-1c1b-4455-865d-9f64767804ce",
   "metadata": {},
   "outputs": [
    {
     "name": "stdout",
     "output_type": "stream",
     "text": [
      "Encoded values:\n",
      "Female: 0\n",
      "Male: 1\n"
     ]
    }
   ],
   "source": [
    "# initialize LabelEncoder\n",
    "label_encoder = LabelEncoder()\n",
    "\n",
    "# fit LabelEncoder and transform columns\n",
    "df['Gender'] = label_encoder.fit_transform(df['Gender'])\n",
    "\n",
    "# Print the mapping of encoded values to original categories\n",
    "# I will use these values for tester row and for GUI\n",
    "print(\"Encoded values:\")\n",
    "for category, encoded_value in zip(label_encoder.classes_, label_encoder.transform(label_encoder.classes_)):\n",
    "    print(f\"{category}: {encoded_value}\")"
   ]
  },
  {
   "cell_type": "code",
   "execution_count": 99,
   "id": "f57b78e0-936b-4bba-8b6e-086939f7bd8e",
   "metadata": {},
   "outputs": [
    {
     "name": "stdout",
     "output_type": "stream",
     "text": [
      "Encoded values:\n",
      "Average: 0\n",
      "Below average: 1\n",
      "Excellent: 2\n",
      "Good: 3\n"
     ]
    }
   ],
   "source": [
    "# initialize LabelEncoder\n",
    "label_encoder = LabelEncoder()\n",
    "\n",
    "# fit LabelEncoder and transform columns\n",
    "df['AcademicPerformance'] = label_encoder.fit_transform(df['AcademicPerformance'])\n",
    "\n",
    "# Print the mapping of encoded values to original categories\n",
    "# I will use these values for tester row and for GUI\n",
    "print(\"Encoded values:\")\n",
    "for category, encoded_value in zip(label_encoder.classes_, label_encoder.transform(label_encoder.classes_)):\n",
    "    print(f\"{category}: {encoded_value}\")"
   ]
  },
  {
   "cell_type": "code",
   "execution_count": 100,
   "id": "667651bd-60b2-4186-8fd5-960e9a08add0",
   "metadata": {},
   "outputs": [
    {
     "name": "stdout",
     "output_type": "stream",
     "text": [
      "Encoded values:\n",
      "No: 0\n",
      "Sometimes: 1\n",
      "Yes: 2\n"
     ]
    }
   ],
   "source": [
    "# initialize LabelEncoder\n",
    "label_encoder = LabelEncoder()\n",
    "\n",
    "# fit LabelEncoder and transform columns\n",
    "df['TakingNoteInClass'] = label_encoder.fit_transform(df['TakingNoteInClass'])\n",
    "\n",
    "# Print the mapping of encoded values to original categories\n",
    "# I will use these values for tester row and for GUI\n",
    "print(\"Encoded values:\")\n",
    "for category, encoded_value in zip(label_encoder.classes_, label_encoder.transform(label_encoder.classes_)):\n",
    "    print(f\"{category}: {encoded_value}\")"
   ]
  },
  {
   "cell_type": "code",
   "execution_count": 101,
   "id": "cc966a28-73c7-4fb2-b7b0-8701ab02f4f3",
   "metadata": {},
   "outputs": [
    {
     "name": "stdout",
     "output_type": "stream",
     "text": [
      "Encoded values:\n",
      "No: 0\n",
      "Sometimes: 1\n",
      "Yes: 2\n"
     ]
    }
   ],
   "source": [
    "# initialize LabelEncoder\n",
    "label_encoder = LabelEncoder()\n",
    "\n",
    "# fit LabelEncoder and transform columns\n",
    "df['DepressionStatus'] = label_encoder.fit_transform(df['DepressionStatus'])\n",
    "\n",
    "# Print the mapping of encoded values to original categories\n",
    "# I will use these values for tester row and for GUI\n",
    "print(\"Encoded values:\")\n",
    "for category, encoded_value in zip(label_encoder.classes_, label_encoder.transform(label_encoder.classes_)):\n",
    "    print(f\"{category}: {encoded_value}\")"
   ]
  },
  {
   "cell_type": "code",
   "execution_count": 102,
   "id": "a88d51d2-552c-477c-b87d-b010616abef3",
   "metadata": {},
   "outputs": [
    {
     "name": "stdout",
     "output_type": "stream",
     "text": [
      "Encoded values:\n",
      "No: 0\n",
      "Sometimes: 1\n",
      "Yes: 2\n"
     ]
    }
   ],
   "source": [
    "# initialize LabelEncoder\n",
    "label_encoder = LabelEncoder()\n",
    "\n",
    "# fit LabelEncoder and transform columns\n",
    "df['FaceChallangesToCompleteAcademicTask'] = label_encoder.fit_transform(df['FaceChallangesToCompleteAcademicTask'])\n",
    "\n",
    "# Print the mapping of encoded values to original categories\n",
    "# I will use these values for tester row and for GUI\n",
    "print(\"Encoded values:\")\n",
    "for category, encoded_value in zip(label_encoder.classes_, label_encoder.transform(label_encoder.classes_)):\n",
    "    print(f\"{category}: {encoded_value}\")"
   ]
  },
  {
   "cell_type": "code",
   "execution_count": 103,
   "id": "3f3d6a3d-583b-46cc-aacb-45a1e11ab01e",
   "metadata": {},
   "outputs": [
    {
     "name": "stdout",
     "output_type": "stream",
     "text": [
      "Encoded values:\n",
      "No: 0\n",
      "Yes: 1\n"
     ]
    }
   ],
   "source": [
    "# initialize LabelEncoder\n",
    "label_encoder = LabelEncoder()\n",
    "\n",
    "# fit LabelEncoder and transform columns\n",
    "df['LikePresentation'] = label_encoder.fit_transform(df['LikePresentation'])\n",
    "\n",
    "# Print the mapping of encoded values to original categories\n",
    "# I will use these values for tester row and for GUI\n",
    "print(\"Encoded values:\")\n",
    "for category, encoded_value in zip(label_encoder.classes_, label_encoder.transform(label_encoder.classes_)):\n",
    "    print(f\"{category}: {encoded_value}\")"
   ]
  },
  {
   "cell_type": "code",
   "execution_count": 104,
   "id": "35e83ec4-f5d6-4294-a650-8c942a590344",
   "metadata": {},
   "outputs": [
    {
     "name": "stdout",
     "output_type": "stream",
     "text": [
      "Encoded values:\n",
      "No: 0\n",
      "Yes: 1\n"
     ]
    }
   ],
   "source": [
    "# initialize LabelEncoder\n",
    "label_encoder = LabelEncoder()\n",
    "\n",
    "# fit LabelEncoder and transform columns\n",
    "df['LikeNewThings'] = label_encoder.fit_transform(df['LikeNewThings'])\n",
    "\n",
    "# Print the mapping of encoded values to original categories\n",
    "# I will use these values for tester row and for GUI\n",
    "print(\"Encoded values:\")\n",
    "for category, encoded_value in zip(label_encoder.classes_, label_encoder.transform(label_encoder.classes_)):\n",
    "    print(f\"{category}: {encoded_value}\")"
   ]
  },
  {
   "cell_type": "markdown",
   "id": "e38d86f4-c9df-4f7a-9f50-036368dd60c7",
   "metadata": {},
   "source": [
    "## Data is clean and numeric and ready for the model"
   ]
  },
  {
   "cell_type": "code",
   "execution_count": 105,
   "id": "ea52288b-f5e4-4be7-a6f8-415fee11bd4f",
   "metadata": {},
   "outputs": [
    {
     "data": {
      "text/html": [
       "<div>\n",
       "<style scoped>\n",
       "    .dataframe tbody tr th:only-of-type {\n",
       "        vertical-align: middle;\n",
       "    }\n",
       "\n",
       "    .dataframe tbody tr th {\n",
       "        vertical-align: top;\n",
       "    }\n",
       "\n",
       "    .dataframe thead th {\n",
       "        text-align: right;\n",
       "    }\n",
       "</style>\n",
       "<table border=\"1\" class=\"dataframe\">\n",
       "  <thead>\n",
       "    <tr style=\"text-align: right;\">\n",
       "      <th></th>\n",
       "      <th>Age</th>\n",
       "      <th>Gender</th>\n",
       "      <th>AcademicPerformance</th>\n",
       "      <th>TakingNoteInClass</th>\n",
       "      <th>DepressionStatus</th>\n",
       "      <th>FaceChallangesToCompleteAcademicTask</th>\n",
       "      <th>LikePresentation</th>\n",
       "      <th>SleepPerDayHours</th>\n",
       "      <th>NumberOfFriend</th>\n",
       "      <th>LikeNewThings</th>\n",
       "    </tr>\n",
       "  </thead>\n",
       "  <tbody>\n",
       "    <tr>\n",
       "      <th>1</th>\n",
       "      <td>23</td>\n",
       "      <td>1</td>\n",
       "      <td>2</td>\n",
       "      <td>1</td>\n",
       "      <td>2</td>\n",
       "      <td>0</td>\n",
       "      <td>1</td>\n",
       "      <td>8</td>\n",
       "      <td>80.0</td>\n",
       "      <td>1</td>\n",
       "    </tr>\n",
       "    <tr>\n",
       "      <th>2</th>\n",
       "      <td>24</td>\n",
       "      <td>1</td>\n",
       "      <td>0</td>\n",
       "      <td>0</td>\n",
       "      <td>1</td>\n",
       "      <td>1</td>\n",
       "      <td>0</td>\n",
       "      <td>8</td>\n",
       "      <td>10.0</td>\n",
       "      <td>1</td>\n",
       "    </tr>\n",
       "    <tr>\n",
       "      <th>3</th>\n",
       "      <td>20</td>\n",
       "      <td>0</td>\n",
       "      <td>3</td>\n",
       "      <td>2</td>\n",
       "      <td>1</td>\n",
       "      <td>2</td>\n",
       "      <td>0</td>\n",
       "      <td>5</td>\n",
       "      <td>15.0</td>\n",
       "      <td>1</td>\n",
       "    </tr>\n",
       "    <tr>\n",
       "      <th>4</th>\n",
       "      <td>24</td>\n",
       "      <td>0</td>\n",
       "      <td>0</td>\n",
       "      <td>2</td>\n",
       "      <td>2</td>\n",
       "      <td>2</td>\n",
       "      <td>1</td>\n",
       "      <td>5</td>\n",
       "      <td>2.0</td>\n",
       "      <td>1</td>\n",
       "    </tr>\n",
       "    <tr>\n",
       "      <th>5</th>\n",
       "      <td>23</td>\n",
       "      <td>1</td>\n",
       "      <td>3</td>\n",
       "      <td>1</td>\n",
       "      <td>1</td>\n",
       "      <td>0</td>\n",
       "      <td>1</td>\n",
       "      <td>8</td>\n",
       "      <td>12.0</td>\n",
       "      <td>1</td>\n",
       "    </tr>\n",
       "  </tbody>\n",
       "</table>\n",
       "</div>"
      ],
      "text/plain": [
       "   Age   Gender  AcademicPerformance  TakingNoteInClass  DepressionStatus  \\\n",
       "1    23       1                    2                  1                 2   \n",
       "2    24       1                    0                  0                 1   \n",
       "3    20       0                    3                  2                 1   \n",
       "4    24       0                    0                  2                 2   \n",
       "5    23       1                    3                  1                 1   \n",
       "\n",
       "   FaceChallangesToCompleteAcademicTask  LikePresentation  SleepPerDayHours  \\\n",
       "1                                     0                 1                 8   \n",
       "2                                     1                 0                 8   \n",
       "3                                     2                 0                 5   \n",
       "4                                     2                 1                 5   \n",
       "5                                     0                 1                 8   \n",
       "\n",
       "   NumberOfFriend  LikeNewThings  \n",
       "1            80.0              1  \n",
       "2            10.0              1  \n",
       "3            15.0              1  \n",
       "4             2.0              1  \n",
       "5            12.0              1  "
      ]
     },
     "execution_count": 105,
     "metadata": {},
     "output_type": "execute_result"
    }
   ],
   "source": [
    "df.head()"
   ]
  },
  {
   "cell_type": "markdown",
   "id": "18a55ea4-a023-45de-bf0e-6435c6125772",
   "metadata": {},
   "source": [
    "## 2.  Convert data to X/y and create Random Forest Classifier"
   ]
  },
  {
   "cell_type": "code",
   "execution_count": 106,
   "id": "4ecf9055-1c06-414b-9243-bafd3c13ff6d",
   "metadata": {},
   "outputs": [],
   "source": [
    "# x/y split\n",
    "X = df.drop('AcademicPerformance', axis=1)\n",
    "y = df['AcademicPerformance']"
   ]
  },
  {
   "cell_type": "code",
   "execution_count": 107,
   "id": "2a240183-e58b-43d6-9c9b-24d276d52b88",
   "metadata": {},
   "outputs": [],
   "source": [
    "# split the data into train/test split\n",
    "X_train, X_test, y_train, y_test = train_test_split(X, y, test_size=0.25)"
   ]
  },
  {
   "cell_type": "code",
   "execution_count": 108,
   "id": "30b058aa-b9db-460a-b33f-0ac41d667198",
   "metadata": {},
   "outputs": [
    {
     "data": {
      "text/html": [
       "<style>#sk-container-id-2 {color: black;background-color: white;}#sk-container-id-2 pre{padding: 0;}#sk-container-id-2 div.sk-toggleable {background-color: white;}#sk-container-id-2 label.sk-toggleable__label {cursor: pointer;display: block;width: 100%;margin-bottom: 0;padding: 0.3em;box-sizing: border-box;text-align: center;}#sk-container-id-2 label.sk-toggleable__label-arrow:before {content: \"▸\";float: left;margin-right: 0.25em;color: #696969;}#sk-container-id-2 label.sk-toggleable__label-arrow:hover:before {color: black;}#sk-container-id-2 div.sk-estimator:hover label.sk-toggleable__label-arrow:before {color: black;}#sk-container-id-2 div.sk-toggleable__content {max-height: 0;max-width: 0;overflow: hidden;text-align: left;background-color: #f0f8ff;}#sk-container-id-2 div.sk-toggleable__content pre {margin: 0.2em;color: black;border-radius: 0.25em;background-color: #f0f8ff;}#sk-container-id-2 input.sk-toggleable__control:checked~div.sk-toggleable__content {max-height: 200px;max-width: 100%;overflow: auto;}#sk-container-id-2 input.sk-toggleable__control:checked~label.sk-toggleable__label-arrow:before {content: \"▾\";}#sk-container-id-2 div.sk-estimator input.sk-toggleable__control:checked~label.sk-toggleable__label {background-color: #d4ebff;}#sk-container-id-2 div.sk-label input.sk-toggleable__control:checked~label.sk-toggleable__label {background-color: #d4ebff;}#sk-container-id-2 input.sk-hidden--visually {border: 0;clip: rect(1px 1px 1px 1px);clip: rect(1px, 1px, 1px, 1px);height: 1px;margin: -1px;overflow: hidden;padding: 0;position: absolute;width: 1px;}#sk-container-id-2 div.sk-estimator {font-family: monospace;background-color: #f0f8ff;border: 1px dotted black;border-radius: 0.25em;box-sizing: border-box;margin-bottom: 0.5em;}#sk-container-id-2 div.sk-estimator:hover {background-color: #d4ebff;}#sk-container-id-2 div.sk-parallel-item::after {content: \"\";width: 100%;border-bottom: 1px solid gray;flex-grow: 1;}#sk-container-id-2 div.sk-label:hover label.sk-toggleable__label {background-color: #d4ebff;}#sk-container-id-2 div.sk-serial::before {content: \"\";position: absolute;border-left: 1px solid gray;box-sizing: border-box;top: 0;bottom: 0;left: 50%;z-index: 0;}#sk-container-id-2 div.sk-serial {display: flex;flex-direction: column;align-items: center;background-color: white;padding-right: 0.2em;padding-left: 0.2em;position: relative;}#sk-container-id-2 div.sk-item {position: relative;z-index: 1;}#sk-container-id-2 div.sk-parallel {display: flex;align-items: stretch;justify-content: center;background-color: white;position: relative;}#sk-container-id-2 div.sk-item::before, #sk-container-id-2 div.sk-parallel-item::before {content: \"\";position: absolute;border-left: 1px solid gray;box-sizing: border-box;top: 0;bottom: 0;left: 50%;z-index: -1;}#sk-container-id-2 div.sk-parallel-item {display: flex;flex-direction: column;z-index: 1;position: relative;background-color: white;}#sk-container-id-2 div.sk-parallel-item:first-child::after {align-self: flex-end;width: 50%;}#sk-container-id-2 div.sk-parallel-item:last-child::after {align-self: flex-start;width: 50%;}#sk-container-id-2 div.sk-parallel-item:only-child::after {width: 0;}#sk-container-id-2 div.sk-dashed-wrapped {border: 1px dashed gray;margin: 0 0.4em 0.5em 0.4em;box-sizing: border-box;padding-bottom: 0.4em;background-color: white;}#sk-container-id-2 div.sk-label label {font-family: monospace;font-weight: bold;display: inline-block;line-height: 1.2em;}#sk-container-id-2 div.sk-label-container {text-align: center;}#sk-container-id-2 div.sk-container {/* jupyter's `normalize.less` sets `[hidden] { display: none; }` but bootstrap.min.css set `[hidden] { display: none !important; }` so we also need the `!important` here to be able to override the default hidden behavior on the sphinx rendered scikit-learn.org. See: https://github.com/scikit-learn/scikit-learn/issues/21755 */display: inline-block !important;position: relative;}#sk-container-id-2 div.sk-text-repr-fallback {display: none;}</style><div id=\"sk-container-id-2\" class=\"sk-top-container\"><div class=\"sk-text-repr-fallback\"><pre>Pipeline(steps=[(&#x27;standardscaler&#x27;, StandardScaler()),\n",
       "                (&#x27;randomforestclassifier&#x27;, RandomForestClassifier())])</pre><b>In a Jupyter environment, please rerun this cell to show the HTML representation or trust the notebook. <br />On GitHub, the HTML representation is unable to render, please try loading this page with nbviewer.org.</b></div><div class=\"sk-container\" hidden><div class=\"sk-item sk-dashed-wrapped\"><div class=\"sk-label-container\"><div class=\"sk-label sk-toggleable\"><input class=\"sk-toggleable__control sk-hidden--visually\" id=\"sk-estimator-id-4\" type=\"checkbox\" ><label for=\"sk-estimator-id-4\" class=\"sk-toggleable__label sk-toggleable__label-arrow\">Pipeline</label><div class=\"sk-toggleable__content\"><pre>Pipeline(steps=[(&#x27;standardscaler&#x27;, StandardScaler()),\n",
       "                (&#x27;randomforestclassifier&#x27;, RandomForestClassifier())])</pre></div></div></div><div class=\"sk-serial\"><div class=\"sk-item\"><div class=\"sk-estimator sk-toggleable\"><input class=\"sk-toggleable__control sk-hidden--visually\" id=\"sk-estimator-id-5\" type=\"checkbox\" ><label for=\"sk-estimator-id-5\" class=\"sk-toggleable__label sk-toggleable__label-arrow\">StandardScaler</label><div class=\"sk-toggleable__content\"><pre>StandardScaler()</pre></div></div></div><div class=\"sk-item\"><div class=\"sk-estimator sk-toggleable\"><input class=\"sk-toggleable__control sk-hidden--visually\" id=\"sk-estimator-id-6\" type=\"checkbox\" ><label for=\"sk-estimator-id-6\" class=\"sk-toggleable__label sk-toggleable__label-arrow\">RandomForestClassifier</label><div class=\"sk-toggleable__content\"><pre>RandomForestClassifier()</pre></div></div></div></div></div></div></div>"
      ],
      "text/plain": [
       "Pipeline(steps=[('standardscaler', StandardScaler()),\n",
       "                ('randomforestclassifier', RandomForestClassifier())])"
      ]
     },
     "execution_count": 108,
     "metadata": {},
     "output_type": "execute_result"
    }
   ],
   "source": [
    "model = make_pipeline(StandardScaler(), RandomForestClassifier())\n",
    "model.fit(X_train, y_train)"
   ]
  },
  {
   "cell_type": "markdown",
   "id": "64001a8d-a4a6-4791-992b-6303f5a69d03",
   "metadata": {},
   "source": [
    "## 3. Metrics"
   ]
  },
  {
   "cell_type": "code",
   "execution_count": 109,
   "id": "df27abed-9a7b-4861-9a40-345100f2c3e7",
   "metadata": {},
   "outputs": [],
   "source": [
    "predictions = model.predict(X_test)"
   ]
  },
  {
   "cell_type": "code",
   "execution_count": 110,
   "id": "3434b15c-bb46-425a-97ed-b28c0492ec6c",
   "metadata": {},
   "outputs": [
    {
     "name": "stdout",
     "output_type": "stream",
     "text": [
      "              precision    recall  f1-score   support\n",
      "\n",
      "           0       0.83      1.00      0.91        10\n",
      "           1       1.00      1.00      1.00         1\n",
      "           2       1.00      1.00      1.00         3\n",
      "           3       1.00      0.80      0.89        10\n",
      "\n",
      "    accuracy                           0.92        24\n",
      "   macro avg       0.96      0.95      0.95        24\n",
      "weighted avg       0.93      0.92      0.92        24\n",
      "\n",
      "\n",
      "Model overall accuracy: 91.67%\n"
     ]
    }
   ],
   "source": [
    "# print the classification report based on true values and predictions\n",
    "print(classification_report(y_test, predictions))\n",
    "\n",
    "# get overall accuracy of the model and print it\n",
    "acc = accuracy_score(y_test, predictions)\n",
    "print(\"\\nModel overall accuracy: {:.2f}%\".format(acc * 100))\n",
    "\n",
    "# I am not satisfied with results\n",
    "# I am aiming to have more than 90%"
   ]
  },
  {
   "cell_type": "code",
   "execution_count": 111,
   "id": "9c2dc031-139c-4858-9547-eb899cf4ea3d",
   "metadata": {},
   "outputs": [
    {
     "data": {
      "text/plain": [
       "<Axes: >"
      ]
     },
     "execution_count": 111,
     "metadata": {},
     "output_type": "execute_result"
    },
    {
     "data": {
      "image/png": "[encoded data removed]",
      "text/plain": [
       "<Figure size 640x480 with 2 Axes>"
      ]
     },
     "metadata": {},
     "output_type": "display_data"
    }
   ],
   "source": [
    "# confusion metrics\n",
    "sns.heatmap(confusion_matrix(y_test, predictions), annot=True)\n",
    "\n",
    "# not many mistakes"
   ]
  },
  {
   "cell_type": "markdown",
   "id": "914c4290-087b-49d1-8b1d-e642b6f4a38e",
   "metadata": {},
   "source": [
    "## 4. Visualisation of the Random Forest model"
   ]
  },
  {
   "cell_type": "code",
   "execution_count": 112,
   "id": "dc6f9cc0-18ae-4ca8-8eb5-2f18ecba804b",
   "metadata": {},
   "outputs": [],
   "source": [
    "# pip install dtreeviz\n",
    "# isntalled"
   ]
  },
  {
   "cell_type": "code",
   "execution_count": 113,
   "id": "e4bb2974-63a7-4c56-b692-202c4a8486fe",
   "metadata": {},
   "outputs": [],
   "source": [
    "import dtreeviz"
   ]
  },
  {
   "cell_type": "code",
   "execution_count": 114,
   "id": "66ee3216-d3e0-40f6-9926-ad5e46722613",
   "metadata": {},
   "outputs": [
    {
     "ename": "ValueError",
     "evalue": "Tree model must be in (DecisionTreeRegressor, DecisionTreeClassifier, xgboost.core.Booster, lightgbm.basic.Booster, pyspark DecisionTreeClassificationModel, pyspark DecisionTreeClassificationModel, tensorflow_decision_forests.keras.RandomForestModel, tensorflow_decision_forests.keras.GradientBoostedTreesModel) but you passed a Pipeline!",
     "output_type": "error",
     "traceback": [
      "\u001b[0;31m---------------------------------------------------------------------------\u001b[0m",
      "\u001b[0;31mValueError\u001b[0m                                Traceback (most recent call last)",
      "Cell \u001b[0;32mIn[114], line 9\u001b[0m\n\u001b[1;32m      5\u001b[0m \u001b[38;5;28;01mfrom\u001b[39;00m \u001b[38;5;21;01msklearn\u001b[39;00m \u001b[38;5;28;01mimport\u001b[39;00m tree\n\u001b[1;32m      7\u001b[0m \u001b[38;5;66;03m# for IOS I had to used Brew to install graphviz (brew install graphviz)\u001b[39;00m\n\u001b[1;32m      8\u001b[0m \u001b[38;5;66;03m# import dtreeviz\u001b[39;00m\n\u001b[0;32m----> 9\u001b[0m viz_model \u001b[38;5;241m=\u001b[39m \u001b[43mdtreeviz\u001b[49m\u001b[38;5;241;43m.\u001b[39;49m\u001b[43mmodel\u001b[49m\u001b[43m(\u001b[49m\u001b[43mmodel\u001b[49m\u001b[43m,\u001b[49m\n\u001b[1;32m     10\u001b[0m \u001b[43m                           \u001b[49m\u001b[43mX_train\u001b[49m\u001b[38;5;241;43m=\u001b[39;49m\u001b[43mX\u001b[49m\u001b[43m,\u001b[49m\u001b[43m \u001b[49m\u001b[43my_train\u001b[49m\u001b[38;5;241;43m=\u001b[39;49m\u001b[43my\u001b[49m\u001b[43m,\u001b[49m\n\u001b[1;32m     11\u001b[0m \u001b[43m                           \u001b[49m\u001b[43mfeature_names\u001b[49m\u001b[38;5;241;43m=\u001b[39;49m\u001b[43mX\u001b[49m\u001b[38;5;241;43m.\u001b[39;49m\u001b[43mcolumns\u001b[49m\u001b[43m,\u001b[49m\n\u001b[1;32m     12\u001b[0m \u001b[43m                           \u001b[49m\u001b[43mtarget_name\u001b[49m\u001b[38;5;241;43m=\u001b[39;49m\u001b[38;5;124;43m'\u001b[39;49m\u001b[38;5;124;43mDecision\u001b[39;49m\u001b[38;5;124;43m'\u001b[39;49m\u001b[43m,\u001b[49m\n\u001b[1;32m     13\u001b[0m \u001b[43m                           \u001b[49m\u001b[43mclass_names\u001b[49m\u001b[38;5;241;43m=\u001b[39;49m\u001b[43m[\u001b[49m\u001b[38;5;124;43m\"\u001b[39;49m\u001b[38;5;124;43mNo\u001b[39;49m\u001b[38;5;124;43m\"\u001b[39;49m\u001b[43m,\u001b[49m\u001b[43m \u001b[49m\u001b[38;5;124;43m\"\u001b[39;49m\u001b[38;5;124;43mYes\u001b[39;49m\u001b[38;5;124;43m\"\u001b[39;49m\u001b[43m]\u001b[49m\u001b[43m)\u001b[49m\n\u001b[1;32m     15\u001b[0m \u001b[38;5;66;03m# for viewing in the Jupyter notebook\u001b[39;00m\n\u001b[1;32m     16\u001b[0m \u001b[38;5;66;03m# adjust the scale if you need a bigger picture (for example 2.5)\u001b[39;00m\n\u001b[1;32m     17\u001b[0m viz_model\u001b[38;5;241m.\u001b[39mview(scale\u001b[38;5;241m=\u001b[39m\u001b[38;5;241m1.5\u001b[39m)\u001b[38;5;241m.\u001b[39msave(\u001b[38;5;124m\"\u001b[39m\u001b[38;5;124mdt_bank_test.svg\u001b[39m\u001b[38;5;124m\"\u001b[39m)\n",
      "File \u001b[0;32m~/anaconda3/lib/python3.10/site-packages/dtreeviz/trees.py:1914\u001b[0m, in \u001b[0;36mmodel\u001b[0;34m(model, X_train, y_train, tree_index, feature_names, target_name, class_names)\u001b[0m\n\u001b[1;32m   1891\u001b[0m \u001b[38;5;28;01mdef\u001b[39;00m \u001b[38;5;21mmodel\u001b[39m(model,\n\u001b[1;32m   1892\u001b[0m           X_train,\n\u001b[1;32m   1893\u001b[0m           y_train,\n\u001b[0;32m   (...)\u001b[0m\n\u001b[1;32m   1896\u001b[0m           target_name: \u001b[38;5;28mstr\u001b[39m \u001b[38;5;241m=\u001b[39m \u001b[38;5;28;01mNone\u001b[39;00m,\n\u001b[1;32m   1897\u001b[0m           class_names: (List[\u001b[38;5;28mstr\u001b[39m], Mapping[\u001b[38;5;28mint\u001b[39m, \u001b[38;5;28mstr\u001b[39m]) \u001b[38;5;241m=\u001b[39m \u001b[38;5;28;01mNone\u001b[39;00m) \u001b[38;5;241m-\u001b[39m\u001b[38;5;241m>\u001b[39m DTreeVizAPI:\n\u001b[1;32m   1898\u001b[0m     \u001b[38;5;124;03m\"\"\"\u001b[39;00m\n\u001b[1;32m   1899\u001b[0m \u001b[38;5;124;03m    Given a decision tree-based model from a supported decision-tree library, training data, and\u001b[39;00m\n\u001b[1;32m   1900\u001b[0m \u001b[38;5;124;03m    information about the data, create a model adaptor that provides a consistent interface for\u001b[39;00m\n\u001b[0;32m   (...)\u001b[0m\n\u001b[1;32m   1912\u001b[0m \u001b[38;5;124;03m             e.g., call the view() method on the return object to display it in a notebook.\u001b[39;00m\n\u001b[1;32m   1913\u001b[0m \u001b[38;5;124;03m    \"\"\"\u001b[39;00m\n\u001b[0;32m-> 1914\u001b[0m     shadow_tree \u001b[38;5;241m=\u001b[39m \u001b[43mShadowDecTree\u001b[49m\u001b[38;5;241;43m.\u001b[39;49m\u001b[43mget_shadow_tree\u001b[49m\u001b[43m(\u001b[49m\u001b[43mmodel\u001b[49m\u001b[43m,\u001b[49m\u001b[43m \u001b[49m\u001b[43mX_train\u001b[49m\u001b[43m,\u001b[49m\u001b[43m \u001b[49m\u001b[43my_train\u001b[49m\u001b[43m,\u001b[49m\n\u001b[1;32m   1915\u001b[0m \u001b[43m                                                \u001b[49m\u001b[43mfeature_names\u001b[49m\u001b[43m,\u001b[49m\u001b[43m \u001b[49m\u001b[43mtarget_name\u001b[49m\u001b[43m,\u001b[49m\u001b[43m \u001b[49m\u001b[43mclass_names\u001b[49m\u001b[43m,\u001b[49m\n\u001b[1;32m   1916\u001b[0m \u001b[43m                                                \u001b[49m\u001b[43mtree_index\u001b[49m\u001b[43m)\u001b[49m\n\u001b[1;32m   1917\u001b[0m     dtreeviz_model \u001b[38;5;241m=\u001b[39m DTreeVizAPI(shadow_tree)\n\u001b[1;32m   1918\u001b[0m     \u001b[38;5;28;01mreturn\u001b[39;00m dtreeviz_model\n",
      "File \u001b[0;32m~/anaconda3/lib/python3.10/site-packages/dtreeviz/models/shadow_decision_tree.py:466\u001b[0m, in \u001b[0;36mShadowDecTree.get_shadow_tree\u001b[0;34m(tree_model, X_train, y_train, feature_names, target_name, class_names, tree_index)\u001b[0m\n\u001b[1;32m    463\u001b[0m     \u001b[38;5;28;01mreturn\u001b[39;00m tensorflow_decision_tree\u001b[38;5;241m.\u001b[39mShadowTensorflowTree(tree_model, tree_index, X_train, y_train,\n\u001b[1;32m    464\u001b[0m                                                          feature_names, target_name, class_names)\n\u001b[1;32m    465\u001b[0m \u001b[38;5;28;01melse\u001b[39;00m:\n\u001b[0;32m--> 466\u001b[0m     \u001b[38;5;28;01mraise\u001b[39;00m \u001b[38;5;167;01mValueError\u001b[39;00m(\n\u001b[1;32m    467\u001b[0m         \u001b[38;5;124mf\u001b[39m\u001b[38;5;124m\"\u001b[39m\u001b[38;5;124mTree model must be in (DecisionTreeRegressor, DecisionTreeClassifier, \u001b[39m\u001b[38;5;124m\"\u001b[39m\n\u001b[1;32m    468\u001b[0m         \u001b[38;5;124m\"\u001b[39m\u001b[38;5;124mxgboost.core.Booster, lightgbm.basic.Booster, pyspark DecisionTreeClassificationModel, \u001b[39m\u001b[38;5;124m\"\u001b[39m\n\u001b[1;32m    469\u001b[0m         \u001b[38;5;124mf\u001b[39m\u001b[38;5;124m\"\u001b[39m\u001b[38;5;124mpyspark DecisionTreeClassificationModel, tensorflow_decision_forests.keras.RandomForestModel, \u001b[39m\u001b[38;5;124m\"\u001b[39m\n\u001b[1;32m    470\u001b[0m         \u001b[38;5;124mf\u001b[39m\u001b[38;5;124m\"\u001b[39m\u001b[38;5;124mtensorflow_decision_forests.keras.GradientBoostedTreesModel) \u001b[39m\u001b[38;5;124m\"\u001b[39m\n\u001b[1;32m    471\u001b[0m         \u001b[38;5;124mf\u001b[39m\u001b[38;5;124m\"\u001b[39m\u001b[38;5;124mbut you passed a \u001b[39m\u001b[38;5;132;01m{\u001b[39;00mtree_model\u001b[38;5;241m.\u001b[39m\u001b[38;5;18m__class__\u001b[39m\u001b[38;5;241m.\u001b[39m\u001b[38;5;18m__name__\u001b[39m\u001b[38;5;132;01m}\u001b[39;00m\u001b[38;5;124m!\u001b[39m\u001b[38;5;124m\"\u001b[39m)\n",
      "\u001b[0;31mValueError\u001b[0m: Tree model must be in (DecisionTreeRegressor, DecisionTreeClassifier, xgboost.core.Booster, lightgbm.basic.Booster, pyspark DecisionTreeClassificationModel, pyspark DecisionTreeClassificationModel, tensorflow_decision_forests.keras.RandomForestModel, tensorflow_decision_forests.keras.GradientBoostedTreesModel) but you passed a Pipeline!"
     ]
    }
   ],
   "source": [
    "#  Version 1: dtreeviz, more detailed explanations on the nodes in the decision trees (cutoff points etc.)\n",
    "# pip install dtreeviz\n",
    "from sklearn.tree import export_graphviz\n",
    "import subprocess\n",
    "from sklearn import tree\n",
    "\n",
    "# for IOS I had to used Brew to install graphviz (brew install graphviz)\n",
    "# import dtreeviz\n",
    "viz_model = dtreeviz.model(model,\n",
    "                           X_train=X, y_train=y,\n",
    "                           feature_names=X.columns,\n",
    "                           target_name='Decision',\n",
    "                           class_names=[\"No\", \"Yes\"])\n",
    "\n",
    "# for viewing in the Jupyter notebook\n",
    "# adjust the scale if you need a bigger picture (for example 2.5)\n",
    "viz_model.view(scale=1.5).save(\"dt_bank_test.svg\") "
   ]
  },
  {
   "cell_type": "code",
   "execution_count": null,
   "id": "29a2cb01-c2e2-42c6-92f7-b94a2a3a195c",
   "metadata": {},
   "outputs": [],
   "source": []
  }
 ],
 "metadata": {
  "kernelspec": {
   "display_name": "Python 3 (ipykernel)",
   "language": "python",
   "name": "python3"
  },
  "language_info": {
   "codemirror_mode": {
    "name": "ipython",
    "version": 3
   },
   "file_extension": ".py",
   "mimetype": "text/x-python",
   "name": "python",
   "nbconvert_exporter": "python",
   "pygments_lexer": "ipython3",
   "version": "3.10.9"
  }
 },
 "nbformat": 4,
 "nbformat_minor": 5
}
