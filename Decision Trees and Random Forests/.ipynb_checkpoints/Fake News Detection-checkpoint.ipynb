{
 "cells": [
  {
   "cell_type": "markdown",
   "id": "3817eaba-d75f-4c6b-be49-8363a4a76263",
   "metadata": {},
   "source": [
    "https://www.kaggle.com/datasets/sadikaljarif/bangla-and-english-fake-news-dataset/data"
   ]
  },
  {
   "cell_type": "markdown",
   "id": "0ef356bc-ab85-40d2-8a03-0984becfefeb",
   "metadata": {},
   "source": [
    "# imports and modifying data"
   ]
  },
  {
   "cell_type": "code",
   "execution_count": 288,
   "id": "ab2bc31c-903a-4fba-873d-ce0cd3977d63",
   "metadata": {},
   "outputs": [],
   "source": [
    "# install moules andlibraries\n",
    "# pip install dtreeviz\n",
    "import pandas as pd\n",
    "import numpy as np\n",
    "import matplotlib.pyplot as plt\n",
    "from sklearn.model_selection import train_test_split\n",
    "from sklearn.feature_extraction.text import TfidfVectorizer\n",
    "from sklearn.tree import DecisionTreeClassifier\n",
    "from sklearn.svm import LinearSVC\n",
    "from sklearn.linear_model import PassiveAggressiveClassifier, LogisticRegression\n",
    "from sklearn.metrics import accuracy_score, confusion_matrix"
   ]
  },
  {
   "cell_type": "code",
   "execution_count": 289,
   "id": "8709cff4-b700-41e1-a197-3f604e1dc12a",
   "metadata": {},
   "outputs": [],
   "source": [
    "#upload dataset\n",
    "df = pd.read_csv(\"fake_news.csv\")"
   ]
  },
  {
   "cell_type": "code",
   "execution_count": 290,
   "id": "bc08ed99-df40-4603-bc9f-fc37ca5f4c98",
   "metadata": {},
   "outputs": [
    {
     "data": {
      "text/html": [
       "<div>\n",
       "<style scoped>\n",
       "    .dataframe tbody tr th:only-of-type {\n",
       "        vertical-align: middle;\n",
       "    }\n",
       "\n",
       "    .dataframe tbody tr th {\n",
       "        vertical-align: top;\n",
       "    }\n",
       "\n",
       "    .dataframe thead th {\n",
       "        text-align: right;\n",
       "    }\n",
       "</style>\n",
       "<table border=\"1\" class=\"dataframe\">\n",
       "  <thead>\n",
       "    <tr style=\"text-align: right;\">\n",
       "      <th></th>\n",
       "      <th>lebel</th>\n",
       "    </tr>\n",
       "  </thead>\n",
       "  <tbody>\n",
       "    <tr>\n",
       "      <th>count</th>\n",
       "      <td>10000.000000</td>\n",
       "    </tr>\n",
       "    <tr>\n",
       "      <th>mean</th>\n",
       "      <td>0.500000</td>\n",
       "    </tr>\n",
       "    <tr>\n",
       "      <th>std</th>\n",
       "      <td>0.500025</td>\n",
       "    </tr>\n",
       "    <tr>\n",
       "      <th>min</th>\n",
       "      <td>0.000000</td>\n",
       "    </tr>\n",
       "    <tr>\n",
       "      <th>25%</th>\n",
       "      <td>0.000000</td>\n",
       "    </tr>\n",
       "    <tr>\n",
       "      <th>50%</th>\n",
       "      <td>0.500000</td>\n",
       "    </tr>\n",
       "    <tr>\n",
       "      <th>75%</th>\n",
       "      <td>1.000000</td>\n",
       "    </tr>\n",
       "    <tr>\n",
       "      <th>max</th>\n",
       "      <td>1.000000</td>\n",
       "    </tr>\n",
       "  </tbody>\n",
       "</table>\n",
       "</div>"
      ],
      "text/plain": [
       "              lebel\n",
       "count  10000.000000\n",
       "mean       0.500000\n",
       "std        0.500025\n",
       "min        0.000000\n",
       "25%        0.000000\n",
       "50%        0.500000\n",
       "75%        1.000000\n",
       "max        1.000000"
      ]
     },
     "execution_count": 290,
     "metadata": {},
     "output_type": "execute_result"
    }
   ],
   "source": [
    "# we have a nig dataset which contains 10 000 rows\n",
    "df.describe()"
   ]
  },
  {
   "cell_type": "code",
   "execution_count": 291,
   "id": "f9dfe388-29f4-4219-9209-6a954befd8a0",
   "metadata": {},
   "outputs": [
    {
     "data": {
      "text/plain": [
       "270"
      ]
     },
     "execution_count": 291,
     "metadata": {},
     "output_type": "execute_result"
    }
   ],
   "source": [
    "# check duplicates\n",
    "df.duplicated().sum()"
   ]
  },
  {
   "cell_type": "code",
   "execution_count": 292,
   "id": "0bcb59f1-cff0-4b84-9534-4f5b5b245536",
   "metadata": {},
   "outputs": [],
   "source": [
    "# delete duplicates\n",
    "df = df.drop_duplicates()"
   ]
  },
  {
   "cell_type": "code",
   "execution_count": 293,
   "id": "a2642a9e-4f3c-4d65-a15e-f2fd20111c34",
   "metadata": {},
   "outputs": [
    {
     "data": {
      "text/plain": [
       "title    0\n",
       "text     0\n",
       "lebel    0\n",
       "dtype: int64"
      ]
     },
     "execution_count": 293,
     "metadata": {},
     "output_type": "execute_result"
    }
   ],
   "source": [
    "# check nan values\n",
    "df.isnull().sum()"
   ]
  },
  {
   "cell_type": "code",
   "execution_count": 294,
   "id": "021c311b-5bdf-4b9c-b307-f70495489851",
   "metadata": {},
   "outputs": [],
   "source": [
    "# rename the column\n",
    "# due to the spli in the name\n",
    "df = df.rename(columns={'lebel': 'label'})"
   ]
  },
  {
   "cell_type": "code",
   "execution_count": 295,
   "id": "c1ded7d6-9bcd-4cb1-b5a8-a6daef82bdd3",
   "metadata": {},
   "outputs": [
    {
     "data": {
      "text/html": [
       "<div>\n",
       "<style scoped>\n",
       "    .dataframe tbody tr th:only-of-type {\n",
       "        vertical-align: middle;\n",
       "    }\n",
       "\n",
       "    .dataframe tbody tr th {\n",
       "        vertical-align: top;\n",
       "    }\n",
       "\n",
       "    .dataframe thead th {\n",
       "        text-align: right;\n",
       "    }\n",
       "</style>\n",
       "<table border=\"1\" class=\"dataframe\">\n",
       "  <thead>\n",
       "    <tr style=\"text-align: right;\">\n",
       "      <th></th>\n",
       "      <th>title</th>\n",
       "      <th>text</th>\n",
       "      <th>label</th>\n",
       "    </tr>\n",
       "  </thead>\n",
       "  <tbody>\n",
       "    <tr>\n",
       "      <th>0</th>\n",
       "      <td>Trump backs off praise of Russia's Putin after...</td>\n",
       "      <td>HENDERSON, Nev. (Reuters) - U.S. Republican pr...</td>\n",
       "      <td>1</td>\n",
       "    </tr>\n",
       "    <tr>\n",
       "      <th>1</th>\n",
       "      <td>Trump's funding request for U.S. border wall h...</td>\n",
       "      <td>WASHINGTON (Reuters) - President Donald Trump’...</td>\n",
       "      <td>1</td>\n",
       "    </tr>\n",
       "    <tr>\n",
       "      <th>2</th>\n",
       "      <td>As Votes For Trump Went Up, Canada’s Immigrat...</td>\n",
       "      <td>Well, sad to say, it s a sure chance the next ...</td>\n",
       "      <td>0</td>\n",
       "    </tr>\n",
       "    <tr>\n",
       "      <th>3</th>\n",
       "      <td>U.S. Navy, shipbuilders ready for Trump's expa...</td>\n",
       "      <td>SIMI VALLEY, Calif. (Reuters) - The U.S. arms ...</td>\n",
       "      <td>1</td>\n",
       "    </tr>\n",
       "    <tr>\n",
       "      <th>4</th>\n",
       "      <td>Trump defends DACA move, urges Congress to ena...</td>\n",
       "      <td>WASHINGTON (Reuters) - President Donald Trump ...</td>\n",
       "      <td>1</td>\n",
       "    </tr>\n",
       "    <tr>\n",
       "      <th>...</th>\n",
       "      <td>...</td>\n",
       "      <td>...</td>\n",
       "      <td>...</td>\n",
       "    </tr>\n",
       "    <tr>\n",
       "      <th>9995</th>\n",
       "      <td>ESTABLISHMENT GOP END TIMES? Why Republican Ca...</td>\n",
       "      <td>In the real world, if your boss is damaging yo...</td>\n",
       "      <td>0</td>\n",
       "    </tr>\n",
       "    <tr>\n",
       "      <th>9996</th>\n",
       "      <td>Republican tax fight complicates plan to pass ...</td>\n",
       "      <td>WASHINGTON (Reuters) - A budget plan crucial t...</td>\n",
       "      <td>1</td>\n",
       "    </tr>\n",
       "    <tr>\n",
       "      <th>9997</th>\n",
       "      <td>Nigeria offers to meet militants after ceasefi...</td>\n",
       "      <td>ABUJA (Reuters) - The minister for Nigeria s o...</td>\n",
       "      <td>1</td>\n",
       "    </tr>\n",
       "    <tr>\n",
       "      <th>9998</th>\n",
       "      <td>Mike Pence: Trump Is Probably Going To Tortur...</td>\n",
       "      <td>On Face The Nation, Mike Pence showed exactly ...</td>\n",
       "      <td>0</td>\n",
       "    </tr>\n",
       "    <tr>\n",
       "      <th>9999</th>\n",
       "      <td>CNN FIRES BLACK DEM Party Chair: New Wikileaks...</td>\n",
       "      <td>You just can t make this up! CNN fires black D...</td>\n",
       "      <td>0</td>\n",
       "    </tr>\n",
       "  </tbody>\n",
       "</table>\n",
       "<p>9730 rows × 3 columns</p>\n",
       "</div>"
      ],
      "text/plain": [
       "                                                  title  \\\n",
       "0     Trump backs off praise of Russia's Putin after...   \n",
       "1     Trump's funding request for U.S. border wall h...   \n",
       "2      As Votes For Trump Went Up, Canada’s Immigrat...   \n",
       "3     U.S. Navy, shipbuilders ready for Trump's expa...   \n",
       "4     Trump defends DACA move, urges Congress to ena...   \n",
       "...                                                 ...   \n",
       "9995  ESTABLISHMENT GOP END TIMES? Why Republican Ca...   \n",
       "9996  Republican tax fight complicates plan to pass ...   \n",
       "9997  Nigeria offers to meet militants after ceasefi...   \n",
       "9998   Mike Pence: Trump Is Probably Going To Tortur...   \n",
       "9999  CNN FIRES BLACK DEM Party Chair: New Wikileaks...   \n",
       "\n",
       "                                                   text  label  \n",
       "0     HENDERSON, Nev. (Reuters) - U.S. Republican pr...      1  \n",
       "1     WASHINGTON (Reuters) - President Donald Trump’...      1  \n",
       "2     Well, sad to say, it s a sure chance the next ...      0  \n",
       "3     SIMI VALLEY, Calif. (Reuters) - The U.S. arms ...      1  \n",
       "4     WASHINGTON (Reuters) - President Donald Trump ...      1  \n",
       "...                                                 ...    ...  \n",
       "9995  In the real world, if your boss is damaging yo...      0  \n",
       "9996  WASHINGTON (Reuters) - A budget plan crucial t...      1  \n",
       "9997  ABUJA (Reuters) - The minister for Nigeria s o...      1  \n",
       "9998  On Face The Nation, Mike Pence showed exactly ...      0  \n",
       "9999  You just can t make this up! CNN fires black D...      0  \n",
       "\n",
       "[9730 rows x 3 columns]"
      ]
     },
     "execution_count": 295,
     "metadata": {},
     "output_type": "execute_result"
    }
   ],
   "source": [
    "# check our data\n",
    "df"
   ]
  },
  {
   "cell_type": "markdown",
   "id": "50348eae-e8d6-4ff5-8149-fa4b4f84ec4d",
   "metadata": {},
   "source": [
    "# Checking balance"
   ]
  },
  {
   "cell_type": "code",
   "execution_count": 296,
   "id": "f8614cf5-1bdf-46ee-b0d4-f61a5262617b",
   "metadata": {},
   "outputs": [
    {
     "data": {
      "image/png": "[encoded data removed]",
      "text/plain": [
       "<Figure size 700x500 with 1 Axes>"
      ]
     },
     "metadata": {},
     "output_type": "display_data"
    }
   ],
   "source": [
    "# Count the occurrences of each label (assuming 'label' is the column containing labels)\n",
    "sentiment_counts = df['label'].value_counts()\n",
    "\n",
    "# create the figure and axes for the plot\n",
    "fig, ax = plt.subplots(figsize=(7, 5))\n",
    "\n",
    "# ploting a bar chart with the counts of each label\n",
    "ax.bar(sentiment_counts.index, sentiment_counts.values)\n",
    "\n",
    "# customize the plot: set labels for x-axis and y-axis, and add a title\n",
    "ax.set_xlabel('Label')\n",
    "ax.set_ylabel('Count')\n",
    "ax.set_title('Label Count Plot')\n",
    "\n",
    "# show the plot\n",
    "plt.show()\n",
    "\n",
    "# resource for the same structure of a plot: https://www.kaggle.com/code/sihabhossan/bangla-fake-news-detection"
   ]
  },
  {
   "cell_type": "markdown",
   "id": "3ef5b1dd-9c40-4320-aff9-f2eede09a36a",
   "metadata": {},
   "source": [
    "# SVC model"
   ]
  },
  {
   "cell_type": "code",
   "execution_count": 297,
   "id": "bed03ab7-3bf3-4710-b884-a4c3968a0052",
   "metadata": {},
   "outputs": [],
   "source": [
    "# splitting data into train-test\n",
    "x_train,x_test,y_train,y_test=train_test_split(df['text'], labels, test_size=0.2, random_state=7)\n",
    "\n",
    "# source of SVC model: \n",
    "# https://medium.com/geekculture/detecting-fake-news-using-supervised-learning-8abf09b9bf1d"
   ]
  },
  {
   "cell_type": "code",
   "execution_count": 298,
   "id": "4ffe6a8b-031f-4a53-b108-69f3c027824d",
   "metadata": {},
   "outputs": [
    {
     "data": {
      "text/html": [
       "<style>#sk-container-id-17 {color: black;background-color: white;}#sk-container-id-17 pre{padding: 0;}#sk-container-id-17 div.sk-toggleable {background-color: white;}#sk-container-id-17 label.sk-toggleable__label {cursor: pointer;display: block;width: 100%;margin-bottom: 0;padding: 0.3em;box-sizing: border-box;text-align: center;}#sk-container-id-17 label.sk-toggleable__label-arrow:before {content: \"▸\";float: left;margin-right: 0.25em;color: #696969;}#sk-container-id-17 label.sk-toggleable__label-arrow:hover:before {color: black;}#sk-container-id-17 div.sk-estimator:hover label.sk-toggleable__label-arrow:before {color: black;}#sk-container-id-17 div.sk-toggleable__content {max-height: 0;max-width: 0;overflow: hidden;text-align: left;background-color: #f0f8ff;}#sk-container-id-17 div.sk-toggleable__content pre {margin: 0.2em;color: black;border-radius: 0.25em;background-color: #f0f8ff;}#sk-container-id-17 input.sk-toggleable__control:checked~div.sk-toggleable__content {max-height: 200px;max-width: 100%;overflow: auto;}#sk-container-id-17 input.sk-toggleable__control:checked~label.sk-toggleable__label-arrow:before {content: \"▾\";}#sk-container-id-17 div.sk-estimator input.sk-toggleable__control:checked~label.sk-toggleable__label {background-color: #d4ebff;}#sk-container-id-17 div.sk-label input.sk-toggleable__control:checked~label.sk-toggleable__label {background-color: #d4ebff;}#sk-container-id-17 input.sk-hidden--visually {border: 0;clip: rect(1px 1px 1px 1px);clip: rect(1px, 1px, 1px, 1px);height: 1px;margin: -1px;overflow: hidden;padding: 0;position: absolute;width: 1px;}#sk-container-id-17 div.sk-estimator {font-family: monospace;background-color: #f0f8ff;border: 1px dotted black;border-radius: 0.25em;box-sizing: border-box;margin-bottom: 0.5em;}#sk-container-id-17 div.sk-estimator:hover {background-color: #d4ebff;}#sk-container-id-17 div.sk-parallel-item::after {content: \"\";width: 100%;border-bottom: 1px solid gray;flex-grow: 1;}#sk-container-id-17 div.sk-label:hover label.sk-toggleable__label {background-color: #d4ebff;}#sk-container-id-17 div.sk-serial::before {content: \"\";position: absolute;border-left: 1px solid gray;box-sizing: border-box;top: 0;bottom: 0;left: 50%;z-index: 0;}#sk-container-id-17 div.sk-serial {display: flex;flex-direction: column;align-items: center;background-color: white;padding-right: 0.2em;padding-left: 0.2em;position: relative;}#sk-container-id-17 div.sk-item {position: relative;z-index: 1;}#sk-container-id-17 div.sk-parallel {display: flex;align-items: stretch;justify-content: center;background-color: white;position: relative;}#sk-container-id-17 div.sk-item::before, #sk-container-id-17 div.sk-parallel-item::before {content: \"\";position: absolute;border-left: 1px solid gray;box-sizing: border-box;top: 0;bottom: 0;left: 50%;z-index: -1;}#sk-container-id-17 div.sk-parallel-item {display: flex;flex-direction: column;z-index: 1;position: relative;background-color: white;}#sk-container-id-17 div.sk-parallel-item:first-child::after {align-self: flex-end;width: 50%;}#sk-container-id-17 div.sk-parallel-item:last-child::after {align-self: flex-start;width: 50%;}#sk-container-id-17 div.sk-parallel-item:only-child::after {width: 0;}#sk-container-id-17 div.sk-dashed-wrapped {border: 1px dashed gray;margin: 0 0.4em 0.5em 0.4em;box-sizing: border-box;padding-bottom: 0.4em;background-color: white;}#sk-container-id-17 div.sk-label label {font-family: monospace;font-weight: bold;display: inline-block;line-height: 1.2em;}#sk-container-id-17 div.sk-label-container {text-align: center;}#sk-container-id-17 div.sk-container {/* jupyter's `normalize.less` sets `[hidden] { display: none; }` but bootstrap.min.css set `[hidden] { display: none !important; }` so we also need the `!important` here to be able to override the default hidden behavior on the sphinx rendered scikit-learn.org. See: https://github.com/scikit-learn/scikit-learn/issues/21755 */display: inline-block !important;position: relative;}#sk-container-id-17 div.sk-text-repr-fallback {display: none;}</style><div id=\"sk-container-id-17\" class=\"sk-top-container\"><div class=\"sk-text-repr-fallback\"><pre>LinearSVC()</pre><b>In a Jupyter environment, please rerun this cell to show the HTML representation or trust the notebook. <br />On GitHub, the HTML representation is unable to render, please try loading this page with nbviewer.org.</b></div><div class=\"sk-container\" hidden><div class=\"sk-item\"><div class=\"sk-estimator sk-toggleable\"><input class=\"sk-toggleable__control sk-hidden--visually\" id=\"sk-estimator-id-17\" type=\"checkbox\" checked><label for=\"sk-estimator-id-17\" class=\"sk-toggleable__label sk-toggleable__label-arrow\">LinearSVC</label><div class=\"sk-toggleable__content\"><pre>LinearSVC()</pre></div></div></div></div></div>"
      ],
      "text/plain": [
       "LinearSVC()"
      ]
     },
     "execution_count": 298,
     "metadata": {},
     "output_type": "execute_result"
    }
   ],
   "source": [
    "# creating SVC model\n",
    "model = LinearSVC()\n",
    "\n",
    "# tfidf_train is a sparse matrix obtained from TF-IDF vectorization \n",
    "# of the training text data (x_train). Each row of this matrix represents \n",
    "# a document (text), and each column represents a unique word or term \n",
    "# from the entire corpus of documents\n",
    "\n",
    "# y_train represents the target or labels corresponding \n",
    "# to the training data. y_train contains the labels (0 or 1) \n",
    "# indicating the class of each document in the training set\n",
    "model.fit(tfidf_train, y_train)"
   ]
  },
  {
   "cell_type": "code",
   "execution_count": 299,
   "id": "ab9d8042-2070-480e-a04c-c59d2b3f74d5",
   "metadata": {},
   "outputs": [
    {
     "name": "stdout",
     "output_type": "stream",
     "text": [
      "Accuracy: 98.87%\n"
     ]
    }
   ],
   "source": [
    "# checking accuracy score of the model\n",
    "y_pred_SVM = svc.predict(tfidf_test)\n",
    "score = accuracy_score(y_test, y_pred_SVM)\n",
    "print(f'Accuracy: {round(score * 100, 2)}%')\n",
    "\n",
    "# I am surprised wit the accuracy"
   ]
  },
  {
   "cell_type": "markdown",
   "id": "9ed73954-c326-4301-a14f-e7546f8acb4d",
   "metadata": {},
   "source": [
    "# Decision Tree Classifier"
   ]
  },
  {
   "cell_type": "code",
   "execution_count": 300,
   "id": "6ee8806d-8195-46e8-8de4-2371f2956233",
   "metadata": {},
   "outputs": [
    {
     "data": {
      "text/html": [
       "<style>#sk-container-id-18 {color: black;background-color: white;}#sk-container-id-18 pre{padding: 0;}#sk-container-id-18 div.sk-toggleable {background-color: white;}#sk-container-id-18 label.sk-toggleable__label {cursor: pointer;display: block;width: 100%;margin-bottom: 0;padding: 0.3em;box-sizing: border-box;text-align: center;}#sk-container-id-18 label.sk-toggleable__label-arrow:before {content: \"▸\";float: left;margin-right: 0.25em;color: #696969;}#sk-container-id-18 label.sk-toggleable__label-arrow:hover:before {color: black;}#sk-container-id-18 div.sk-estimator:hover label.sk-toggleable__label-arrow:before {color: black;}#sk-container-id-18 div.sk-toggleable__content {max-height: 0;max-width: 0;overflow: hidden;text-align: left;background-color: #f0f8ff;}#sk-container-id-18 div.sk-toggleable__content pre {margin: 0.2em;color: black;border-radius: 0.25em;background-color: #f0f8ff;}#sk-container-id-18 input.sk-toggleable__control:checked~div.sk-toggleable__content {max-height: 200px;max-width: 100%;overflow: auto;}#sk-container-id-18 input.sk-toggleable__control:checked~label.sk-toggleable__label-arrow:before {content: \"▾\";}#sk-container-id-18 div.sk-estimator input.sk-toggleable__control:checked~label.sk-toggleable__label {background-color: #d4ebff;}#sk-container-id-18 div.sk-label input.sk-toggleable__control:checked~label.sk-toggleable__label {background-color: #d4ebff;}#sk-container-id-18 input.sk-hidden--visually {border: 0;clip: rect(1px 1px 1px 1px);clip: rect(1px, 1px, 1px, 1px);height: 1px;margin: -1px;overflow: hidden;padding: 0;position: absolute;width: 1px;}#sk-container-id-18 div.sk-estimator {font-family: monospace;background-color: #f0f8ff;border: 1px dotted black;border-radius: 0.25em;box-sizing: border-box;margin-bottom: 0.5em;}#sk-container-id-18 div.sk-estimator:hover {background-color: #d4ebff;}#sk-container-id-18 div.sk-parallel-item::after {content: \"\";width: 100%;border-bottom: 1px solid gray;flex-grow: 1;}#sk-container-id-18 div.sk-label:hover label.sk-toggleable__label {background-color: #d4ebff;}#sk-container-id-18 div.sk-serial::before {content: \"\";position: absolute;border-left: 1px solid gray;box-sizing: border-box;top: 0;bottom: 0;left: 50%;z-index: 0;}#sk-container-id-18 div.sk-serial {display: flex;flex-direction: column;align-items: center;background-color: white;padding-right: 0.2em;padding-left: 0.2em;position: relative;}#sk-container-id-18 div.sk-item {position: relative;z-index: 1;}#sk-container-id-18 div.sk-parallel {display: flex;align-items: stretch;justify-content: center;background-color: white;position: relative;}#sk-container-id-18 div.sk-item::before, #sk-container-id-18 div.sk-parallel-item::before {content: \"\";position: absolute;border-left: 1px solid gray;box-sizing: border-box;top: 0;bottom: 0;left: 50%;z-index: -1;}#sk-container-id-18 div.sk-parallel-item {display: flex;flex-direction: column;z-index: 1;position: relative;background-color: white;}#sk-container-id-18 div.sk-parallel-item:first-child::after {align-self: flex-end;width: 50%;}#sk-container-id-18 div.sk-parallel-item:last-child::after {align-self: flex-start;width: 50%;}#sk-container-id-18 div.sk-parallel-item:only-child::after {width: 0;}#sk-container-id-18 div.sk-dashed-wrapped {border: 1px dashed gray;margin: 0 0.4em 0.5em 0.4em;box-sizing: border-box;padding-bottom: 0.4em;background-color: white;}#sk-container-id-18 div.sk-label label {font-family: monospace;font-weight: bold;display: inline-block;line-height: 1.2em;}#sk-container-id-18 div.sk-label-container {text-align: center;}#sk-container-id-18 div.sk-container {/* jupyter's `normalize.less` sets `[hidden] { display: none; }` but bootstrap.min.css set `[hidden] { display: none !important; }` so we also need the `!important` here to be able to override the default hidden behavior on the sphinx rendered scikit-learn.org. See: https://github.com/scikit-learn/scikit-learn/issues/21755 */display: inline-block !important;position: relative;}#sk-container-id-18 div.sk-text-repr-fallback {display: none;}</style><div id=\"sk-container-id-18\" class=\"sk-top-container\"><div class=\"sk-text-repr-fallback\"><pre>DecisionTreeClassifier(criterion=&#x27;entropy&#x27;, random_state=0)</pre><b>In a Jupyter environment, please rerun this cell to show the HTML representation or trust the notebook. <br />On GitHub, the HTML representation is unable to render, please try loading this page with nbviewer.org.</b></div><div class=\"sk-container\" hidden><div class=\"sk-item\"><div class=\"sk-estimator sk-toggleable\"><input class=\"sk-toggleable__control sk-hidden--visually\" id=\"sk-estimator-id-18\" type=\"checkbox\" checked><label for=\"sk-estimator-id-18\" class=\"sk-toggleable__label sk-toggleable__label-arrow\">DecisionTreeClassifier</label><div class=\"sk-toggleable__content\"><pre>DecisionTreeClassifier(criterion=&#x27;entropy&#x27;, random_state=0)</pre></div></div></div></div></div>"
      ],
      "text/plain": [
       "DecisionTreeClassifier(criterion='entropy', random_state=0)"
      ]
     },
     "execution_count": 300,
     "metadata": {},
     "output_type": "execute_result"
    }
   ],
   "source": [
    "# creating Decision Tree Classifier\n",
    "model = DecisionTreeClassifier(criterion='entropy', random_state=0)\n",
    "\n",
    "# tfidf_train is a sparse matrix obtained from TF-IDF vectorization \n",
    "# of the training text data (x_train). Each row of this matrix represents \n",
    "# a document (text), and each column represents a unique word or term \n",
    "# from the entire corpus of documents\n",
    "\n",
    "# y_train represents the target or labels corresponding \n",
    "# to the training data. y_train contains the labels (0 or 1) \n",
    "# indicating the class of each document in the training set\n",
    "model.fit(tfidf_train, y_train)\n",
    "# the same source of Decision tree model: \n",
    "# https://medium.com/geekculture/detecting-fake-news-using-supervised-learning-8abf09b9bf1d"
   ]
  },
  {
   "cell_type": "code",
   "execution_count": 303,
   "id": "59c0c0e9-b030-4dba-b7fe-ded368167013",
   "metadata": {},
   "outputs": [
    {
     "name": "stdout",
     "output_type": "stream",
     "text": [
      "Accuracy: 99.08%\n"
     ]
    }
   ],
   "source": [
    "# checking accuracy score of the model\n",
    "y_pred_DT = model.predict(tfidf_test)\n",
    "score = accuracy_score(y_test, y_pred_DT)\n",
    "print(f'Accuracy: {round(score * 100, 2)}%')\n",
    "\n",
    "# almost the perfect model"
   ]
  },
  {
   "cell_type": "code",
   "execution_count": 304,
   "id": "be843a9d-947a-4999-afa5-ceb554d91e62",
   "metadata": {},
   "outputs": [
    {
     "ename": "IndexError",
     "evalue": "index 43201 is out of bounds for axis 0 with size 41",
     "output_type": "error",
     "traceback": [
      "\u001b[0;31m---------------------------------------------------------------------------\u001b[0m",
      "\u001b[0;31mIndexError\u001b[0m                                Traceback (most recent call last)",
      "Cell \u001b[0;32mIn[304], line 5\u001b[0m\n\u001b[1;32m      3\u001b[0m \u001b[38;5;66;03m# creating a plot\u001b[39;00m\n\u001b[1;32m      4\u001b[0m plt\u001b[38;5;241m.\u001b[39mfigure(figsize\u001b[38;5;241m=\u001b[39m(\u001b[38;5;241m30\u001b[39m,\u001b[38;5;241m15\u001b[39m))\n\u001b[0;32m----> 5\u001b[0m \u001b[43mplot_tree\u001b[49m\u001b[43m(\u001b[49m\u001b[43mmodel\u001b[49m\u001b[43m,\u001b[49m\u001b[43m \u001b[49m\u001b[43mfilled\u001b[49m\u001b[38;5;241;43m=\u001b[39;49m\u001b[38;5;28;43;01mTrue\u001b[39;49;00m\u001b[43m,\u001b[49m\u001b[43m \u001b[49m\u001b[43mfeature_names\u001b[49m\u001b[38;5;241;43m=\u001b[39;49m\u001b[43mtfidf_vectorizer\u001b[49m\u001b[38;5;241;43m.\u001b[39;49m\u001b[43mget_feature_names_out\u001b[49m\u001b[43m(\u001b[49m\u001b[43m)\u001b[49m\u001b[43m)\u001b[49m\n\u001b[1;32m      6\u001b[0m plt\u001b[38;5;241m.\u001b[39msavefig(\u001b[38;5;124m'\u001b[39m\u001b[38;5;124mdecision_tree_plot.png\u001b[39m\u001b[38;5;124m'\u001b[39m)  \u001b[38;5;66;03m# saving the plot to the same folder\u001b[39;00m\n\u001b[1;32m      7\u001b[0m plt\u001b[38;5;241m.\u001b[39mshow()\n",
      "File \u001b[0;32m~/anaconda3/lib/python3.10/site-packages/sklearn/tree/_export.py:194\u001b[0m, in \u001b[0;36mplot_tree\u001b[0;34m(decision_tree, max_depth, feature_names, class_names, label, filled, impurity, node_ids, proportion, rounded, precision, ax, fontsize)\u001b[0m\n\u001b[1;32m    179\u001b[0m check_is_fitted(decision_tree)\n\u001b[1;32m    181\u001b[0m exporter \u001b[38;5;241m=\u001b[39m _MPLTreeExporter(\n\u001b[1;32m    182\u001b[0m     max_depth\u001b[38;5;241m=\u001b[39mmax_depth,\n\u001b[1;32m    183\u001b[0m     feature_names\u001b[38;5;241m=\u001b[39mfeature_names,\n\u001b[0;32m   (...)\u001b[0m\n\u001b[1;32m    192\u001b[0m     fontsize\u001b[38;5;241m=\u001b[39mfontsize,\n\u001b[1;32m    193\u001b[0m )\n\u001b[0;32m--> 194\u001b[0m \u001b[38;5;28;01mreturn\u001b[39;00m \u001b[43mexporter\u001b[49m\u001b[38;5;241;43m.\u001b[39;49m\u001b[43mexport\u001b[49m\u001b[43m(\u001b[49m\u001b[43mdecision_tree\u001b[49m\u001b[43m,\u001b[49m\u001b[43m \u001b[49m\u001b[43max\u001b[49m\u001b[38;5;241;43m=\u001b[39;49m\u001b[43max\u001b[49m\u001b[43m)\u001b[49m\n",
      "File \u001b[0;32m~/anaconda3/lib/python3.10/site-packages/sklearn/tree/_export.py:655\u001b[0m, in \u001b[0;36m_MPLTreeExporter.export\u001b[0;34m(self, decision_tree, ax)\u001b[0m\n\u001b[1;32m    653\u001b[0m ax\u001b[38;5;241m.\u001b[39mclear()\n\u001b[1;32m    654\u001b[0m ax\u001b[38;5;241m.\u001b[39mset_axis_off()\n\u001b[0;32m--> 655\u001b[0m my_tree \u001b[38;5;241m=\u001b[39m \u001b[38;5;28;43mself\u001b[39;49m\u001b[38;5;241;43m.\u001b[39;49m\u001b[43m_make_tree\u001b[49m\u001b[43m(\u001b[49m\u001b[38;5;241;43m0\u001b[39;49m\u001b[43m,\u001b[49m\u001b[43m \u001b[49m\u001b[43mdecision_tree\u001b[49m\u001b[38;5;241;43m.\u001b[39;49m\u001b[43mtree_\u001b[49m\u001b[43m,\u001b[49m\u001b[43m \u001b[49m\u001b[43mdecision_tree\u001b[49m\u001b[38;5;241;43m.\u001b[39;49m\u001b[43mcriterion\u001b[49m\u001b[43m)\u001b[49m\n\u001b[1;32m    656\u001b[0m draw_tree \u001b[38;5;241m=\u001b[39m buchheim(my_tree)\n\u001b[1;32m    658\u001b[0m \u001b[38;5;66;03m# important to make sure we're still\u001b[39;00m\n\u001b[1;32m    659\u001b[0m \u001b[38;5;66;03m# inside the axis after drawing the box\u001b[39;00m\n\u001b[1;32m    660\u001b[0m \u001b[38;5;66;03m# this makes sense because the width of a box\u001b[39;00m\n\u001b[1;32m    661\u001b[0m \u001b[38;5;66;03m# is about the same as the distance between boxes\u001b[39;00m\n",
      "File \u001b[0;32m~/anaconda3/lib/python3.10/site-packages/sklearn/tree/_export.py:631\u001b[0m, in \u001b[0;36m_MPLTreeExporter._make_tree\u001b[0;34m(self, node_id, et, criterion, depth)\u001b[0m\n\u001b[1;32m    628\u001b[0m \u001b[38;5;28;01mdef\u001b[39;00m \u001b[38;5;21m_make_tree\u001b[39m(\u001b[38;5;28mself\u001b[39m, node_id, et, criterion, depth\u001b[38;5;241m=\u001b[39m\u001b[38;5;241m0\u001b[39m):\n\u001b[1;32m    629\u001b[0m     \u001b[38;5;66;03m# traverses _tree.Tree recursively, builds intermediate\u001b[39;00m\n\u001b[1;32m    630\u001b[0m     \u001b[38;5;66;03m# \"_reingold_tilford.Tree\" object\u001b[39;00m\n\u001b[0;32m--> 631\u001b[0m     name \u001b[38;5;241m=\u001b[39m \u001b[38;5;28;43mself\u001b[39;49m\u001b[38;5;241;43m.\u001b[39;49m\u001b[43mnode_to_str\u001b[49m\u001b[43m(\u001b[49m\u001b[43met\u001b[49m\u001b[43m,\u001b[49m\u001b[43m \u001b[49m\u001b[43mnode_id\u001b[49m\u001b[43m,\u001b[49m\u001b[43m \u001b[49m\u001b[43mcriterion\u001b[49m\u001b[38;5;241;43m=\u001b[39;49m\u001b[43mcriterion\u001b[49m\u001b[43m)\u001b[49m\n\u001b[1;32m    632\u001b[0m     \u001b[38;5;28;01mif\u001b[39;00m et\u001b[38;5;241m.\u001b[39mchildren_left[node_id] \u001b[38;5;241m!=\u001b[39m _tree\u001b[38;5;241m.\u001b[39mTREE_LEAF \u001b[38;5;129;01mand\u001b[39;00m (\n\u001b[1;32m    633\u001b[0m         \u001b[38;5;28mself\u001b[39m\u001b[38;5;241m.\u001b[39mmax_depth \u001b[38;5;129;01mis\u001b[39;00m \u001b[38;5;28;01mNone\u001b[39;00m \u001b[38;5;129;01mor\u001b[39;00m depth \u001b[38;5;241m<\u001b[39m\u001b[38;5;241m=\u001b[39m \u001b[38;5;28mself\u001b[39m\u001b[38;5;241m.\u001b[39mmax_depth\n\u001b[1;32m    634\u001b[0m     ):\n\u001b[1;32m    635\u001b[0m         children \u001b[38;5;241m=\u001b[39m [\n\u001b[1;32m    636\u001b[0m             \u001b[38;5;28mself\u001b[39m\u001b[38;5;241m.\u001b[39m_make_tree(\n\u001b[1;32m    637\u001b[0m                 et\u001b[38;5;241m.\u001b[39mchildren_left[node_id], et, criterion, depth\u001b[38;5;241m=\u001b[39mdepth \u001b[38;5;241m+\u001b[39m \u001b[38;5;241m1\u001b[39m\n\u001b[0;32m   (...)\u001b[0m\n\u001b[1;32m    641\u001b[0m             ),\n\u001b[1;32m    642\u001b[0m         ]\n",
      "File \u001b[0;32m~/anaconda3/lib/python3.10/site-packages/sklearn/tree/_export.py:291\u001b[0m, in \u001b[0;36m_BaseTreeExporter.node_to_str\u001b[0;34m(self, tree, node_id, criterion)\u001b[0m\n\u001b[1;32m    288\u001b[0m \u001b[38;5;28;01mif\u001b[39;00m tree\u001b[38;5;241m.\u001b[39mchildren_left[node_id] \u001b[38;5;241m!=\u001b[39m _tree\u001b[38;5;241m.\u001b[39mTREE_LEAF:\n\u001b[1;32m    289\u001b[0m     \u001b[38;5;66;03m# Always write node decision criteria, except for leaves\u001b[39;00m\n\u001b[1;32m    290\u001b[0m     \u001b[38;5;28;01mif\u001b[39;00m \u001b[38;5;28mself\u001b[39m\u001b[38;5;241m.\u001b[39mfeature_names \u001b[38;5;129;01mis\u001b[39;00m \u001b[38;5;129;01mnot\u001b[39;00m \u001b[38;5;28;01mNone\u001b[39;00m:\n\u001b[0;32m--> 291\u001b[0m         feature \u001b[38;5;241m=\u001b[39m \u001b[38;5;28;43mself\u001b[39;49m\u001b[38;5;241;43m.\u001b[39;49m\u001b[43mfeature_names\u001b[49m\u001b[43m[\u001b[49m\u001b[43mtree\u001b[49m\u001b[38;5;241;43m.\u001b[39;49m\u001b[43mfeature\u001b[49m\u001b[43m[\u001b[49m\u001b[43mnode_id\u001b[49m\u001b[43m]\u001b[49m\u001b[43m]\u001b[49m\n\u001b[1;32m    292\u001b[0m     \u001b[38;5;28;01melse\u001b[39;00m:\n\u001b[1;32m    293\u001b[0m         feature \u001b[38;5;241m=\u001b[39m \u001b[38;5;124m\"\u001b[39m\u001b[38;5;124mx\u001b[39m\u001b[38;5;132;01m%s\u001b[39;00m\u001b[38;5;132;01m%s\u001b[39;00m\u001b[38;5;132;01m%s\u001b[39;00m\u001b[38;5;124m\"\u001b[39m \u001b[38;5;241m%\u001b[39m (\n\u001b[1;32m    294\u001b[0m             characters[\u001b[38;5;241m1\u001b[39m],\n\u001b[1;32m    295\u001b[0m             tree\u001b[38;5;241m.\u001b[39mfeature[node_id],\n\u001b[1;32m    296\u001b[0m             characters[\u001b[38;5;241m2\u001b[39m],\n\u001b[1;32m    297\u001b[0m         )\n",
      "\u001b[0;31mIndexError\u001b[0m: index 43201 is out of bounds for axis 0 with size 41"
     ]
    },
    {
     "data": {
      "image/png": "[encoded data removed]",
      "text/plain": [
       "<Figure size 3000x1500 with 1 Axes>"
      ]
     },
     "metadata": {},
     "output_type": "display_data"
    }
   ],
   "source": [
    "from sklearn.tree import plot_tree\n",
    "\n",
    "# creating a plot\n",
    "plt.figure(figsize=(30,15))\n",
    "plot_tree(model, filled=True, feature_names=tfidf_vectorizer.get_feature_names_out())\n",
    "plt.savefig('decision_tree_plot.png')  # saving the plot to the same folder\n",
    "plt.show() # show the plot\n",
    "\n",
    "# we can read root nodes of the decision tree\n",
    "\n",
    "# Reuters is a global news organization that provides news, financial information, and analytics\n",
    "# probably, many fake messages refer to this website providing with false info\n",
    "\n",
    "# Getty Images is a well-known American photo agency providing high-quality stock images, illustrations, and videos. \n",
    "# it might be that in fake messages this agency is mentioned as an author of visual content\n",
    "\n",
    "# passed, created, read, reported - are also common words in fake messages\n",
    "# maybe it refers to some actions that can arise worriness in readers"
   ]
  },
  {
   "cell_type": "code",
   "execution_count": null,
   "id": "a7882551-1f05-4f8c-b106-01a35f9edfe0",
   "metadata": {},
   "outputs": [],
   "source": [
    "text_of_row_1 = df.loc[1, 'text']\n",
    "print(text_of_row_1)\n"
   ]
  },
  {
   "cell_type": "code",
   "execution_count": null,
   "id": "b36f25e1-053d-4698-bf8d-1a38e4a802cb",
   "metadata": {},
   "outputs": [],
   "source": [
    "\n",
    "tester_row = {\n",
    "    'title': \"WASHINGTON (Reuters)\", \n",
    "    'text': \"President Donald Trump’s call for $1.5 billion this year to help build a wall along the border with Mexico could be in jeopardy as fellow Republicans in Congress weigh delaying a decision on the request. Republican Senator Roy Blunt, a member of his party’s leadership\", \n",
    "}\n",
    "text_documents = [tester_row['title'], tester_row['text']]\n",
    "\n",
    "# Preprocess the text data in the 'title' and 'text' columns\n",
    "# For example, you can use TF-IDF vectorization\n",
    "tfidf_vectorizer = TfidfVectorizer()\n",
    "title_vectorized = tfidf_vectorizer.fit_transform(text_documents['title'])\n",
    "text_vectorized = tfidf_vectorizer.transform(text_documents['text'])\n",
    "\n",
    "# Combine the vectorized features into a single feature matrix\n",
    "X_test = hstack([title_vectorized, text_vectorized])\n",
    "\n",
    "# Make predictions using the trained DecisionTreeClassifier model\n",
    "predicted_probabilities = model.predict_proba(X_test)\n",
    "\n",
    "# Display the predicted probabilities for each class\n",
    "print(\"Predicted Probabilities by Category:\")\n",
    "print(predicted_probabilities)\n",
    "\n",
    "# Determine the predicted label based on the highest probability\n",
    "predicted_label_index = np.argmax(predicted_probabilities)\n",
    "predicted_label = labels[predicted_label_index]\n",
    "print(\"\\nPredicted Label:\", predicted_label)"
   ]
  },
  {
   "cell_type": "code",
   "execution_count": null,
   "id": "d5ced9b3-0a34-45b7-8115-12bd8a78e63e",
   "metadata": {},
   "outputs": [],
   "source": [
    "\n",
    "from sklearn.feature_extraction.text import TfidfVectorizer\n",
    "new_text = [\"WASHINGTON (Reuters)\"]  # Pass the new text as a single string in a list\n",
    "\n",
    "new1_text = [\"President Donald Trump’s call for $1.5 billion this year to help build a wall along the border with Mexico could be in jeopardy as fellow Republicans in Congress weigh delaying a decision on the request. Republican Senator Roy Blunt, a member of his party’s leadership, told reporters on Tuesday that money for the wall likely would not be coupled with a spending bill that must pass by April 28 to avoid shutting down federal agencies whose funding expires then. Blunt said the must-do funding “comes together better” without Trump’s additional request for the border wall and military programs and could be considered “at a later time.” Democrats are threatening to block the bill funding federal agencies from April 29 to Sept. 30, the end of the current fiscal year, if money for the border wall is included. They object to one of Trump’s premier 2016 campaign promises, saying it is poorly planned and that there are other border security measures already constructed or under consideration. When he ran for president, Trump pledged Mexico would pay to build the wall, designed to keep illegal immigrants and drugs from entering the United States. The Mexican government has said it will not do so. The initiative has also faced resistance among Republicans, including lawmakers representing some border towns. The federal government would have to purchase land in many locations in order to construct the edifice, which could make construction costs soar. Reuters reported the wall could end up costing as much as $21.6 billion, far more than the $12 billion Trump cited. Representative Mario Diaz-Balart also expressed skepticism about Congress’ ability to approve funds for the wall, given the super-majority vote needed in the Senate for most major legislation. Asked about the wall, Diaz-Balart, a senior member of the House of Representatives’ Appropriations Committee and a leading voice on immigration policy, said: “I’m always willing to look at other things we can do to try to get that 60-vote threshold” on border and interior security. Lawmakers said progress was being made on legislation to keep the government running beyond April 28. House Speaker Paul Ryan removed another potential land mine on Tuesday when he said a Republican drive to end federal funding for women’s healthcare provider Planned Parenthood would be best accomplished on legislation other than the upcoming funding bill. Democrats have vowed to stop the must-do money bill if it ended Planned Parenthood’s federal funds.\"]\n",
    "# Vectorize the new text input using the same TF-IDF vectorizer\n",
    "new_text_vectorized = tfidf_vectorizer_headline.transform(new_text).toarray()\n",
    "new1_text_vectorized = tfidf_vectorizer_headline.transform(new1_text).toarray()\n",
    "X_new = pd.concat([pd.DataFrame(new_text_vectorized), pd.DataFrame(new1_text_vectorized)], axis=1).values\n",
    "\n",
    "# Predict using the trained logistic regression model\n",
    "predictions = model.predict(X_new)\n",
    "\n",
    "# 'predictions' will now contain the predicted labels for the new text input\n",
    "print(predictions)"
   ]
  },
  {
   "cell_type": "code",
   "execution_count": null,
   "id": "20d711d9-dc82-4f44-9c3e-188af1ee60a6",
   "metadata": {},
   "outputs": [],
   "source": []
  }
 ],
 "metadata": {
  "kernelspec": {
   "display_name": "Python 3 (ipykernel)",
   "language": "python",
   "name": "python3"
  },
  "language_info": {
   "codemirror_mode": {
    "name": "ipython",
    "version": 3
   },
   "file_extension": ".py",
   "mimetype": "text/x-python",
   "name": "python",
   "nbconvert_exporter": "python",
   "pygments_lexer": "ipython3",
   "version": "3.10.9"
  }
 },
 "nbformat": 4,
 "nbformat_minor": 5
}
