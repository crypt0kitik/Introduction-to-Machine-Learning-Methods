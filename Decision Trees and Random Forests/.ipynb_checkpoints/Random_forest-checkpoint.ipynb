{
 "cells": [
  {
   "cell_type": "markdown",
   "id": "31703d5b-5756-4456-9bb5-bb9dc6242244",
   "metadata": {},
   "source": [
    "https://www.kaggle.com/datasets/mdismielhossenabir/psychosocial-dimensions-of-student-life"
   ]
  },
  {
   "cell_type": "code",
   "execution_count": 16,
   "id": "c8d29c46-3fe2-4df5-a4af-e739872e107c",
   "metadata": {},
   "outputs": [],
   "source": [
    "# the usual imports\n",
    "import pandas as pd\n",
    "import numpy as np\n",
    "import matplotlib.pyplot as plt\n",
    "import seaborn as sns\n",
    "from sklearn.model_selection import train_test_split\n",
    "from sklearn.pipeline import make_pipeline\n",
    "from sklearn.ensemble import RandomForestRegressor\n",
    "from sklearn.preprocessing import MinMaxScaler, StandardScaler, RobustScaler, Normalizer\n",
    "from sklearn import metrics\n",
    "from sklearn.ensemble import RandomForestClassifier\n",
    "from sklearn.preprocessing import LabelEncoder"
   ]
  },
  {
   "cell_type": "code",
   "execution_count": 17,
   "id": "40600a39-a082-4716-872a-53273fa667cf",
   "metadata": {},
   "outputs": [],
   "source": [
    "# load the data\n",
    "df = pd.read_csv(\"med_student.csv\")"
   ]
  },
  {
   "cell_type": "code",
   "execution_count": 18,
   "id": "02c3e238-45ea-4a8a-879b-1c30ae7f8f6d",
   "metadata": {},
   "outputs": [
    {
     "data": {
      "text/html": [
       "<div>\n",
       "<style scoped>\n",
       "    .dataframe tbody tr th:only-of-type {\n",
       "        vertical-align: middle;\n",
       "    }\n",
       "\n",
       "    .dataframe tbody tr th {\n",
       "        vertical-align: top;\n",
       "    }\n",
       "\n",
       "    .dataframe thead th {\n",
       "        text-align: right;\n",
       "    }\n",
       "</style>\n",
       "<table border=\"1\" class=\"dataframe\">\n",
       "  <thead>\n",
       "    <tr style=\"text-align: right;\">\n",
       "      <th></th>\n",
       "      <th>Age</th>\n",
       "      <th>Gender</th>\n",
       "      <th>AcademicPerformance</th>\n",
       "      <th>TakingNoteInClass</th>\n",
       "      <th>DepressionStatus</th>\n",
       "      <th>FaceChallangesToCompleteAcademicTask</th>\n",
       "      <th>LikePresentation</th>\n",
       "      <th>SleepPerDayHours</th>\n",
       "      <th>NumberOfFriend</th>\n",
       "      <th>LikeNewThings</th>\n",
       "    </tr>\n",
       "  </thead>\n",
       "  <tbody>\n",
       "    <tr>\n",
       "      <th>0</th>\n",
       "      <td>23</td>\n",
       "      <td>Male</td>\n",
       "      <td>Average</td>\n",
       "      <td>No</td>\n",
       "      <td>Sometimes</td>\n",
       "      <td>Yes</td>\n",
       "      <td>Yes</td>\n",
       "      <td>12</td>\n",
       "      <td>NaN</td>\n",
       "      <td>Yes</td>\n",
       "    </tr>\n",
       "    <tr>\n",
       "      <th>1</th>\n",
       "      <td>23</td>\n",
       "      <td>Male</td>\n",
       "      <td>Excellent</td>\n",
       "      <td>Sometimes</td>\n",
       "      <td>Yes</td>\n",
       "      <td>No</td>\n",
       "      <td>Yes</td>\n",
       "      <td>8</td>\n",
       "      <td>80.0</td>\n",
       "      <td>Yes</td>\n",
       "    </tr>\n",
       "    <tr>\n",
       "      <th>2</th>\n",
       "      <td>24</td>\n",
       "      <td>Male</td>\n",
       "      <td>Average</td>\n",
       "      <td>No</td>\n",
       "      <td>Sometimes</td>\n",
       "      <td>Sometimes</td>\n",
       "      <td>No</td>\n",
       "      <td>8</td>\n",
       "      <td>10.0</td>\n",
       "      <td>Yes</td>\n",
       "    </tr>\n",
       "    <tr>\n",
       "      <th>3</th>\n",
       "      <td>20</td>\n",
       "      <td>Female</td>\n",
       "      <td>Good</td>\n",
       "      <td>Yes</td>\n",
       "      <td>Sometimes</td>\n",
       "      <td>Yes</td>\n",
       "      <td>No</td>\n",
       "      <td>5</td>\n",
       "      <td>15.0</td>\n",
       "      <td>Yes</td>\n",
       "    </tr>\n",
       "    <tr>\n",
       "      <th>4</th>\n",
       "      <td>24</td>\n",
       "      <td>Female</td>\n",
       "      <td>Average</td>\n",
       "      <td>Yes</td>\n",
       "      <td>Yes</td>\n",
       "      <td>Yes</td>\n",
       "      <td>Yes</td>\n",
       "      <td>5</td>\n",
       "      <td>2.0</td>\n",
       "      <td>Yes</td>\n",
       "    </tr>\n",
       "  </tbody>\n",
       "</table>\n",
       "</div>"
      ],
      "text/plain": [
       "   Age   Gender AcademicPerformance TakingNoteInClass DepressionStatus  \\\n",
       "0    23    Male             Average                No        Sometimes   \n",
       "1    23    Male           Excellent         Sometimes              Yes   \n",
       "2    24    Male             Average                No        Sometimes   \n",
       "3    20  Female                Good               Yes        Sometimes   \n",
       "4    24  Female             Average               Yes              Yes   \n",
       "\n",
       "  FaceChallangesToCompleteAcademicTask LikePresentation  SleepPerDayHours  \\\n",
       "0                                  Yes              Yes                12   \n",
       "1                                   No              Yes                 8   \n",
       "2                            Sometimes               No                 8   \n",
       "3                                  Yes               No                 5   \n",
       "4                                  Yes              Yes                 5   \n",
       "\n",
       "   NumberOfFriend LikeNewThings  \n",
       "0             NaN           Yes  \n",
       "1            80.0           Yes  \n",
       "2            10.0           Yes  \n",
       "3            15.0           Yes  \n",
       "4             2.0           Yes  "
      ]
     },
     "execution_count": 18,
     "metadata": {},
     "output_type": "execute_result"
    }
   ],
   "source": [
    "# let's quickly see what we have\n",
    "df.head()"
   ]
  },
  {
   "cell_type": "code",
   "execution_count": 19,
   "id": "92686ebf-351e-4e85-8f29-a5cc1b8901d2",
   "metadata": {},
   "outputs": [
    {
     "data": {
      "text/html": [
       "<div>\n",
       "<style scoped>\n",
       "    .dataframe tbody tr th:only-of-type {\n",
       "        vertical-align: middle;\n",
       "    }\n",
       "\n",
       "    .dataframe tbody tr th {\n",
       "        vertical-align: top;\n",
       "    }\n",
       "\n",
       "    .dataframe thead th {\n",
       "        text-align: right;\n",
       "    }\n",
       "</style>\n",
       "<table border=\"1\" class=\"dataframe\">\n",
       "  <thead>\n",
       "    <tr style=\"text-align: right;\">\n",
       "      <th></th>\n",
       "      <th>Age</th>\n",
       "      <th>SleepPerDayHours</th>\n",
       "      <th>NumberOfFriend</th>\n",
       "    </tr>\n",
       "  </thead>\n",
       "  <tbody>\n",
       "    <tr>\n",
       "      <th>count</th>\n",
       "      <td>99.000000</td>\n",
       "      <td>99.000000</td>\n",
       "      <td>95.000000</td>\n",
       "    </tr>\n",
       "    <tr>\n",
       "      <th>mean</th>\n",
       "      <td>22.515152</td>\n",
       "      <td>6.717172</td>\n",
       "      <td>16.189474</td>\n",
       "    </tr>\n",
       "    <tr>\n",
       "      <th>std</th>\n",
       "      <td>1.560767</td>\n",
       "      <td>1.738169</td>\n",
       "      <td>25.397811</td>\n",
       "    </tr>\n",
       "    <tr>\n",
       "      <th>min</th>\n",
       "      <td>20.000000</td>\n",
       "      <td>4.000000</td>\n",
       "      <td>0.000000</td>\n",
       "    </tr>\n",
       "    <tr>\n",
       "      <th>25%</th>\n",
       "      <td>21.000000</td>\n",
       "      <td>5.000000</td>\n",
       "      <td>3.000000</td>\n",
       "    </tr>\n",
       "    <tr>\n",
       "      <th>50%</th>\n",
       "      <td>23.000000</td>\n",
       "      <td>7.000000</td>\n",
       "      <td>6.000000</td>\n",
       "    </tr>\n",
       "    <tr>\n",
       "      <th>75%</th>\n",
       "      <td>24.000000</td>\n",
       "      <td>8.000000</td>\n",
       "      <td>15.000000</td>\n",
       "    </tr>\n",
       "    <tr>\n",
       "      <th>max</th>\n",
       "      <td>25.000000</td>\n",
       "      <td>12.000000</td>\n",
       "      <td>100.000000</td>\n",
       "    </tr>\n",
       "  </tbody>\n",
       "</table>\n",
       "</div>"
      ],
      "text/plain": [
       "            Age   SleepPerDayHours  NumberOfFriend\n",
       "count  99.000000         99.000000       95.000000\n",
       "mean   22.515152          6.717172       16.189474\n",
       "std     1.560767          1.738169       25.397811\n",
       "min    20.000000          4.000000        0.000000\n",
       "25%    21.000000          5.000000        3.000000\n",
       "50%    23.000000          7.000000        6.000000\n",
       "75%    24.000000          8.000000       15.000000\n",
       "max    25.000000         12.000000      100.000000"
      ]
     },
     "execution_count": 19,
     "metadata": {},
     "output_type": "execute_result"
    }
   ],
   "source": [
    "# data is quite small which is good to cee clear classification\n",
    "df.describe()"
   ]
  },
  {
   "cell_type": "code",
   "execution_count": 20,
   "id": "20805adf-8d1d-4b23-a772-82a7699492f0",
   "metadata": {},
   "outputs": [
    {
     "data": {
      "text/plain": [
       "67"
      ]
     },
     "execution_count": 20,
     "metadata": {},
     "output_type": "execute_result"
    }
   ],
   "source": [
    "# oh wow this is so bad :)\n",
    "# we have too many duplicates (almost the whole dataset)\n",
    "df.duplicated().sum()"
   ]
  },
  {
   "cell_type": "code",
   "execution_count": 21,
   "id": "d7c28b11-d890-4c35-a1cd-3584ec2fc30d",
   "metadata": {},
   "outputs": [
    {
     "data": {
      "text/plain": [
       "Age                                     0\n",
       "Gender                                  0\n",
       "AcademicPerformance                     0\n",
       "TakingNoteInClass                       0\n",
       "DepressionStatus                        0\n",
       "FaceChallangesToCompleteAcademicTask    0\n",
       "LikePresentation                        0\n",
       "SleepPerDayHours                        0\n",
       "NumberOfFriend                          4\n",
       "LikeNewThings                           0\n",
       "dtype: int64"
      ]
     },
     "execution_count": 21,
     "metadata": {},
     "output_type": "execute_result"
    }
   ],
   "source": [
    "# and we have 4 Nan values\n",
    "df.isna().sum()"
   ]
  },
  {
   "cell_type": "code",
   "execution_count": 22,
   "id": "ae445645-2229-45a7-bdd3-a9d0913a9691",
   "metadata": {},
   "outputs": [
    {
     "name": "stdout",
     "output_type": "stream",
     "text": [
      "    Age   Gender AcademicPerformance TakingNoteInClass DepressionStatus  \\\n",
      "32    23    Male             Average                No        Sometimes   \n",
      "33    23    Male           Excellent         Sometimes              Yes   \n",
      "34    24    Male             Average                No        Sometimes   \n",
      "35    20  Female                Good               Yes        Sometimes   \n",
      "36    24  Female             Average               Yes              Yes   \n",
      "..   ...     ...                 ...               ...              ...   \n",
      "94    21    Male                Good               Yes        Sometimes   \n",
      "95    21  Female                Good               Yes              Yes   \n",
      "96    25    Male                Good               Yes        Sometimes   \n",
      "97    21    Male                Good               Yes               No   \n",
      "98    22  Female             Average               Yes               No   \n",
      "\n",
      "   FaceChallangesToCompleteAcademicTask LikePresentation  SleepPerDayHours  \\\n",
      "32                                  Yes              Yes                12   \n",
      "33                                   No              Yes                 8   \n",
      "34                            Sometimes               No                 8   \n",
      "35                                  Yes               No                 5   \n",
      "36                                  Yes              Yes                 5   \n",
      "..                                  ...              ...               ...   \n",
      "94                                  Yes              Yes                 6   \n",
      "95                                   No              Yes                 6   \n",
      "96                                   No              Yes                 4   \n",
      "97                            Sometimes               No                10   \n",
      "98                                   No              Yes                 7   \n",
      "\n",
      "    NumberOfFriend LikeNewThings  \n",
      "32             NaN           Yes  \n",
      "33            80.0           Yes  \n",
      "34            10.0           Yes  \n",
      "35            15.0           Yes  \n",
      "36             2.0           Yes  \n",
      "..             ...           ...  \n",
      "94             4.0           Yes  \n",
      "95             6.0           Yes  \n",
      "96             9.0            No  \n",
      "97            23.0           Yes  \n",
      "98             3.0           Yes  \n",
      "\n",
      "[67 rows x 10 columns]\n",
      "Number of duplicate rows: 67\n"
     ]
    }
   ],
   "source": [
    "# Check for duplicate rows\n",
    "duplicates = df.duplicated()\n",
    "\n",
    "# Print duplicate rows\n",
    "print(df[duplicates])\n",
    "\n",
    "# Alternatively, you can count the number of duplicate rows\n",
    "num_duplicates = df.duplicated().sum()\n",
    "print(\"Number of duplicate rows:\", num_duplicates)\n",
    "\n",
    "# I think we have duplicates becuase data is quite genereal\n",
    "# and might be repetitive for many cases\n",
    "# I will delete Nan values but let's keep duplicates"
   ]
  },
  {
   "cell_type": "code",
   "execution_count": 23,
   "id": "90a401b2-f107-4925-b427-c54961b7cb25",
   "metadata": {},
   "outputs": [],
   "source": [
    "# drop Nan values\n",
    "df = df.dropna()"
   ]
  },
  {
   "cell_type": "code",
   "execution_count": 25,
   "id": "fb5e76d2-1c1b-4455-865d-9f64767804ce",
   "metadata": {},
   "outputs": [
    {
     "name": "stdout",
     "output_type": "stream",
     "text": [
      "Encoded values:\n",
      "Female: 0\n",
      "Male: 1\n"
     ]
    }
   ],
   "source": [
    "# initialize LabelEncoder\n",
    "label_encoder = LabelEncoder()\n",
    "\n",
    "# fit LabelEncoder and transform columns\n",
    "df['Gender'] = label_encoder.fit_transform(df['Gender'])\n",
    "\n",
    "# Print the mapping of encoded values to original categories\n",
    "# I will use these values for tester row and for GUI\n",
    "print(\"Encoded values:\")\n",
    "for category, encoded_value in zip(label_encoder.classes_, label_encoder.transform(label_encoder.classes_)):\n",
    "    print(f\"{category}: {encoded_value}\")"
   ]
  },
  {
   "cell_type": "code",
   "execution_count": 26,
   "id": "f57b78e0-936b-4bba-8b6e-086939f7bd8e",
   "metadata": {},
   "outputs": [
    {
     "name": "stdout",
     "output_type": "stream",
     "text": [
      "Encoded values:\n",
      "Average: 0\n",
      "Below average: 1\n",
      "Excellent: 2\n",
      "Good: 3\n"
     ]
    }
   ],
   "source": [
    "# initialize LabelEncoder\n",
    "label_encoder = LabelEncoder()\n",
    "\n",
    "# fit LabelEncoder and transform columns\n",
    "df['AcademicPerformance'] = label_encoder.fit_transform(df['AcademicPerformance'])\n",
    "\n",
    "# Print the mapping of encoded values to original categories\n",
    "# I will use these values for tester row and for GUI\n",
    "print(\"Encoded values:\")\n",
    "for category, encoded_value in zip(label_encoder.classes_, label_encoder.transform(label_encoder.classes_)):\n",
    "    print(f\"{category}: {encoded_value}\")"
   ]
  },
  {
   "cell_type": "code",
   "execution_count": 27,
   "id": "667651bd-60b2-4186-8fd5-960e9a08add0",
   "metadata": {},
   "outputs": [
    {
     "name": "stdout",
     "output_type": "stream",
     "text": [
      "Encoded values:\n",
      "No: 0\n",
      "Sometimes: 1\n",
      "Yes: 2\n"
     ]
    }
   ],
   "source": [
    "# initialize LabelEncoder\n",
    "label_encoder = LabelEncoder()\n",
    "\n",
    "# fit LabelEncoder and transform columns\n",
    "df['TakingNoteInClass'] = label_encoder.fit_transform(df['TakingNoteInClass'])\n",
    "\n",
    "# Print the mapping of encoded values to original categories\n",
    "# I will use these values for tester row and for GUI\n",
    "print(\"Encoded values:\")\n",
    "for category, encoded_value in zip(label_encoder.classes_, label_encoder.transform(label_encoder.classes_)):\n",
    "    print(f\"{category}: {encoded_value}\")"
   ]
  },
  {
   "cell_type": "code",
   "execution_count": 28,
   "id": "cc966a28-73c7-4fb2-b7b0-8701ab02f4f3",
   "metadata": {},
   "outputs": [
    {
     "name": "stdout",
     "output_type": "stream",
     "text": [
      "Encoded values:\n",
      "No: 0\n",
      "Sometimes: 1\n",
      "Yes: 2\n"
     ]
    }
   ],
   "source": [
    "# initialize LabelEncoder\n",
    "label_encoder = LabelEncoder()\n",
    "\n",
    "# fit LabelEncoder and transform columns\n",
    "df['DepressionStatus'] = label_encoder.fit_transform(df['DepressionStatus'])\n",
    "\n",
    "# Print the mapping of encoded values to original categories\n",
    "# I will use these values for tester row and for GUI\n",
    "print(\"Encoded values:\")\n",
    "for category, encoded_value in zip(label_encoder.classes_, label_encoder.transform(label_encoder.classes_)):\n",
    "    print(f\"{category}: {encoded_value}\")"
   ]
  },
  {
   "cell_type": "code",
   "execution_count": 29,
   "id": "a88d51d2-552c-477c-b87d-b010616abef3",
   "metadata": {},
   "outputs": [
    {
     "name": "stdout",
     "output_type": "stream",
     "text": [
      "Encoded values:\n",
      "No: 0\n",
      "Sometimes: 1\n",
      "Yes: 2\n"
     ]
    }
   ],
   "source": [
    "# initialize LabelEncoder\n",
    "label_encoder = LabelEncoder()\n",
    "\n",
    "# fit LabelEncoder and transform columns\n",
    "df['FaceChallangesToCompleteAcademicTask'] = label_encoder.fit_transform(df['FaceChallangesToCompleteAcademicTask'])\n",
    "\n",
    "# Print the mapping of encoded values to original categories\n",
    "# I will use these values for tester row and for GUI\n",
    "print(\"Encoded values:\")\n",
    "for category, encoded_value in zip(label_encoder.classes_, label_encoder.transform(label_encoder.classes_)):\n",
    "    print(f\"{category}: {encoded_value}\")"
   ]
  },
  {
   "cell_type": "code",
   "execution_count": 30,
   "id": "3f3d6a3d-583b-46cc-aacb-45a1e11ab01e",
   "metadata": {},
   "outputs": [
    {
     "name": "stdout",
     "output_type": "stream",
     "text": [
      "Encoded values:\n",
      "No: 0\n",
      "Yes: 1\n"
     ]
    }
   ],
   "source": [
    "# initialize LabelEncoder\n",
    "label_encoder = LabelEncoder()\n",
    "\n",
    "# fit LabelEncoder and transform columns\n",
    "df['LikePresentation'] = label_encoder.fit_transform(df['LikePresentation'])\n",
    "\n",
    "# Print the mapping of encoded values to original categories\n",
    "# I will use these values for tester row and for GUI\n",
    "print(\"Encoded values:\")\n",
    "for category, encoded_value in zip(label_encoder.classes_, label_encoder.transform(label_encoder.classes_)):\n",
    "    print(f\"{category}: {encoded_value}\")"
   ]
  },
  {
   "cell_type": "code",
   "execution_count": 32,
   "id": "35e83ec4-f5d6-4294-a650-8c942a590344",
   "metadata": {},
   "outputs": [
    {
     "name": "stdout",
     "output_type": "stream",
     "text": [
      "Encoded values:\n",
      "0: 0\n",
      "1: 1\n"
     ]
    }
   ],
   "source": [
    "# initialize LabelEncoder\n",
    "label_encoder = LabelEncoder()\n",
    "\n",
    "# fit LabelEncoder and transform columns\n",
    "df['LikeNewThings'] = label_encoder.fit_transform(df['LikeNewThings'])\n",
    "\n",
    "# Print the mapping of encoded values to original categories\n",
    "# I will use these values for tester row and for GUI\n",
    "print(\"Encoded values:\")\n",
    "for category, encoded_value in zip(label_encoder.classes_, label_encoder.transform(label_encoder.classes_)):\n",
    "    print(f\"{category}: {encoded_value}\")"
   ]
  },
  {
   "cell_type": "code",
   "execution_count": null,
   "id": "ea52288b-f5e4-4be7-a6f8-415fee11bd4f",
   "metadata": {},
   "outputs": [],
   "source": []
  },
  {
   "cell_type": "code",
   "execution_count": null,
   "id": "a95b7aeb-c41d-4811-b91e-bc3d382dab86",
   "metadata": {},
   "outputs": [],
   "source": []
  },
  {
   "cell_type": "code",
   "execution_count": null,
   "id": "4ecf9055-1c06-414b-9243-bafd3c13ff6d",
   "metadata": {},
   "outputs": [],
   "source": []
  },
  {
   "cell_type": "code",
   "execution_count": null,
   "id": "2a240183-e58b-43d6-9c9b-24d276d52b88",
   "metadata": {},
   "outputs": [],
   "source": []
  }
 ],
 "metadata": {
  "kernelspec": {
   "display_name": "Python 3 (ipykernel)",
   "language": "python",
   "name": "python3"
  },
  "language_info": {
   "codemirror_mode": {
    "name": "ipython",
    "version": 3
   },
   "file_extension": ".py",
   "mimetype": "text/x-python",
   "name": "python",
   "nbconvert_exporter": "python",
   "pygments_lexer": "ipython3",
   "version": "3.10.9"
  }
 },
 "nbformat": 4,
 "nbformat_minor": 5
}
