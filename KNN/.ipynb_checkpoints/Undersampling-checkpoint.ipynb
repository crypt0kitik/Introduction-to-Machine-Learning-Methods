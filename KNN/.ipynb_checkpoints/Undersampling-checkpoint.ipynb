{
 "cells": [
  {
   "cell_type": "markdown",
   "id": "36de7b22-a6c5-4b22-b2ca-427374344914",
   "metadata": {},
   "source": [
    "As we might notice the data is unbalanced and now I will use the undersampling technique in order to make it more balanced and see if it increases results of metrics"
   ]
  },
  {
   "cell_type": "code",
   "execution_count": 2,
   "id": "56cc0e19-4142-4c05-bc93-45d4c91e4f59",
   "metadata": {},
   "outputs": [],
   "source": [
    "import pandas as pd\n",
    "import numpy as np\n",
    "import matplotlib.pyplot as plt\n",
    "import seaborn as sns\n",
    "\n",
    "# pip install scikit-learn\n",
    "from sklearn.model_selection import train_test_split\n",
    "from sklearn import metrics\n",
    "from sklearn.pipeline import make_pipeline\n",
    "from sklearn.neighbors import KNeighborsClassifier\n",
    "from sklearn.preprocessing import MinMaxScaler, StandardScaler\n",
    "from sklearn.metrics import classification_report\n",
    "from sklearn.metrics import confusion_matrix\n",
    "from sklearn.metrics import accuracy_score\n",
    "from sklearn.metrics import roc_auc_score"
   ]
  },
  {
   "cell_type": "code",
   "execution_count": 3,
   "id": "c6f129f3-6218-4798-8670-3071d6cfb009",
   "metadata": {},
   "outputs": [],
   "source": [
    "# load the data\n",
    "df = pd.read_csv(\"Cancer_Data.csv\")"
   ]
  },
  {
   "cell_type": "code",
   "execution_count": 4,
   "id": "7625fdba-510f-43fd-b887-d7de58a0ed79",
   "metadata": {},
   "outputs": [
    {
     "data": {
      "text/plain": [
       "B    357\n",
       "M    212\n",
       "Name: diagnosis, dtype: int64"
      ]
     },
     "execution_count": 4,
     "metadata": {},
     "output_type": "execute_result"
    }
   ],
   "source": [
    "# check the number of values\n",
    "# the data is not quite balanced\n",
    "df['diagnosis'].value_counts()"
   ]
  },
  {
   "cell_type": "code",
   "execution_count": 10,
   "id": "e46ec822-5e4a-4f2a-ac9d-ee71064aa184",
   "metadata": {},
   "outputs": [
    {
     "name": "stdout",
     "output_type": "stream",
     "text": [
      "Series([], Name: diagnosis, dtype: int64)\n"
     ]
    }
   ],
   "source": [
    "from sklearn.utils import resample\n",
    "\n",
    "# Separate majority and minority classes\n",
    "majority_class = df[df['diagnosis'] == 0]\n",
    "minority_class = df[df['diagnosis'] == 1]\n",
    "\n",
    "# Undersample majority class\n",
    "majority_downsampled = resample(majority_class, \n",
    "                                replace=False,    # sample without replacement\n",
    "                                n_samples=len(minority_class),  # match minority class\n",
    "                                random_state=42)  # reproducible results\n",
    "\n",
    "# Combine minority class with downsampled majority class\n",
    "balanced_df = pd.concat([majority_downsampled, minority_class])\n",
    "\n",
    "# Display class counts\n",
    "print(balanced_df['diagnosis'].value_counts())"
   ]
  },
  {
   "cell_type": "code",
   "execution_count": 9,
   "id": "f9488b50-1fba-4000-8c40-368f19cbdf48",
   "metadata": {},
   "outputs": [
    {
     "data": {
      "text/plain": [
       "B    357\n",
       "M    212\n",
       "Name: diagnosis, dtype: int64"
      ]
     },
     "execution_count": 9,
     "metadata": {},
     "output_type": "execute_result"
    }
   ],
   "source": [
    "# check the number of values\n",
    "# the data is not quite balanced\n",
    "df['diagnosis'].value_counts()"
   ]
  },
  {
   "cell_type": "code",
   "execution_count": null,
   "id": "5489b666-36a3-47ee-befc-101fb90a708e",
   "metadata": {},
   "outputs": [],
   "source": []
  }
 ],
 "metadata": {
  "kernelspec": {
   "display_name": "Python 3 (ipykernel)",
   "language": "python",
   "name": "python3"
  },
  "language_info": {
   "codemirror_mode": {
    "name": "ipython",
    "version": 3
   },
   "file_extension": ".py",
   "mimetype": "text/x-python",
   "name": "python",
   "nbconvert_exporter": "python",
   "pygments_lexer": "ipython3",
   "version": "3.10.9"
  }
 },
 "nbformat": 4,
 "nbformat_minor": 5
}
