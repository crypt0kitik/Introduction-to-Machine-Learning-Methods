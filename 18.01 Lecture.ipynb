{
 "cells": [
  {
   "cell_type": "raw",
   "id": "4a2566ef-9747-4633-8d1f-1dd551b84e88",
   "metadata": {},
   "source": [
    "Manual regression"
   ]
  },
  {
   "cell_type": "code",
   "execution_count": null,
   "id": "fb35f5e1-e0f0-4e62-9fdd-2bf9be5e247e",
   "metadata": {},
   "outputs": [],
   "source": []
  }
 ],
 "metadata": {
  "kernelspec": {
   "display_name": "Python 3 (ipykernel)",
   "language": "python",
   "name": "python3"
  },
  "language_info": {
   "codemirror_mode": {
    "name": "ipython",
    "version": 3
   },
   "file_extension": ".py",
   "mimetype": "text/x-python",
   "name": "python",
   "nbconvert_exporter": "python",
   "pygments_lexer": "ipython3",
   "version": "3.10.9"
  }
 },
 "nbformat": 4,
 "nbformat_minor": 5
}
