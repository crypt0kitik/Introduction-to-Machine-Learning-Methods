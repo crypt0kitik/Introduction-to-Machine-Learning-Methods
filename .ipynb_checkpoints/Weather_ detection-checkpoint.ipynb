{
 "cells": [
  {
   "cell_type": "markdown",
   "id": "fd5d1edb-2a88-4c5e-8ce4-5a01aa084bda",
   "metadata": {},
   "source": [
    "Data format is received form different stations that is why data in different format\n",
    "78 files were saved from station infromation and based on this new data was created\n",
    "Each station has around 100 sensors\n",
    "\n",
    "Data is received from open weather API\n",
    "\n",
    "https://www.digitraffic.fi/en/road-traffic/#data-for-all-stations-and-for-single-station-1 - Road traffic. Open data from Finnish roads."
   ]
  },
  {
   "cell_type": "code",
   "execution_count": 1,
   "id": "785f646e-f57e-4206-946b-4444674b8a0c",
   "metadata": {},
   "outputs": [
    {
     "name": "stdout",
     "output_type": "stream",
     "text": [
      "Collecting detail\n",
      "  Downloading detail-0.2.2-py3-none-any.whl (22 kB)\n",
      "Collecting formaldict>=0.2.0\n",
      "  Downloading formaldict-1.0.5-py3-none-any.whl (9.0 kB)\n",
      "Requirement already satisfied: jinja2>=2.10.3 in /Users/emiliiazemskova/anaconda3/lib/python3.10/site-packages (from detail) (3.1.2)\n",
      "Requirement already satisfied: click>=7.0 in /Users/emiliiazemskova/anaconda3/lib/python3.10/site-packages (from detail) (8.0.4)\n",
      "Requirement already satisfied: pyyaml>=5.1.2 in /Users/emiliiazemskova/anaconda3/lib/python3.10/site-packages (from detail) (6.0)\n",
      "Requirement already satisfied: requests>=2.22.0 in /Users/emiliiazemskova/anaconda3/lib/python3.10/site-packages (from detail) (2.31.0)\n",
      "Collecting click-default-group>=1.2.2\n",
      "  Downloading click_default_group-1.2.4-py2.py3-none-any.whl (4.1 kB)\n",
      "Requirement already satisfied: python-dateutil>=2.8.1 in /Users/emiliiazemskova/anaconda3/lib/python3.10/site-packages (from detail) (2.8.2)\n",
      "Requirement already satisfied: prompt-toolkit>=3.0.2 in /Users/emiliiazemskova/anaconda3/lib/python3.10/site-packages (from formaldict>=0.2.0->detail) (3.0.36)\n",
      "Collecting kmatch>=0.3.0\n",
      "  Downloading kmatch-0.5.0-py3-none-any.whl (8.2 kB)\n",
      "Requirement already satisfied: MarkupSafe>=2.0 in /Users/emiliiazemskova/anaconda3/lib/python3.10/site-packages (from jinja2>=2.10.3->detail) (2.1.1)\n",
      "Requirement already satisfied: six>=1.5 in /Users/emiliiazemskova/anaconda3/lib/python3.10/site-packages (from python-dateutil>=2.8.1->detail) (1.16.0)\n",
      "Requirement already satisfied: idna<4,>=2.5 in /Users/emiliiazemskova/anaconda3/lib/python3.10/site-packages (from requests>=2.22.0->detail) (3.4)\n",
      "Requirement already satisfied: certifi>=2017.4.17 in /Users/emiliiazemskova/anaconda3/lib/python3.10/site-packages (from requests>=2.22.0->detail) (2022.12.7)\n",
      "Requirement already satisfied: charset-normalizer<4,>=2 in /Users/emiliiazemskova/anaconda3/lib/python3.10/site-packages (from requests>=2.22.0->detail) (2.0.4)\n",
      "Requirement already satisfied: urllib3<3,>=1.21.1 in /Users/emiliiazemskova/anaconda3/lib/python3.10/site-packages (from requests>=2.22.0->detail) (1.26.14)\n",
      "Requirement already satisfied: wcwidth in /Users/emiliiazemskova/anaconda3/lib/python3.10/site-packages (from prompt-toolkit>=3.0.2->formaldict>=0.2.0->detail) (0.2.5)\n",
      "Installing collected packages: kmatch, click-default-group, formaldict, detail\n",
      "Successfully installed click-default-group-1.2.4 detail-0.2.2 formaldict-1.0.5 kmatch-0.5.0\n",
      "Note: you may need to restart the kernel to use updated packages.\n"
     ]
    }
   ],
   "source": [
    "pip install detail"
   ]
  },
  {
   "cell_type": "code",
   "execution_count": null,
   "id": "274ea217-1ebc-477b-bab5-9eee6f8831f5",
   "metadata": {},
   "outputs": [],
   "source": []
  }
 ],
 "metadata": {
  "kernelspec": {
   "display_name": "Python 3 (ipykernel)",
   "language": "python",
   "name": "python3"
  },
  "language_info": {
   "codemirror_mode": {
    "name": "ipython",
    "version": 3
   },
   "file_extension": ".py",
   "mimetype": "text/x-python",
   "name": "python",
   "nbconvert_exporter": "python",
   "pygments_lexer": "ipython3",
   "version": "3.10.9"
  }
 },
 "nbformat": 4,
 "nbformat_minor": 5
}
